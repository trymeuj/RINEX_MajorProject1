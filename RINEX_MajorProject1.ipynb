{
  "nbformat": 4,
  "nbformat_minor": 0,
  "metadata": {
    "colab": {
      "name": "RINEX_MajorProject1.ipynb",
      "provenance": [],
      "authorship_tag": "ABX9TyOtZk2o/LJG/TDgfLAX/KLa",
      "include_colab_link": true
    },
    "kernelspec": {
      "name": "python3",
      "display_name": "Python 3"
    },
    "language_info": {
      "name": "python"
    }
  },
  "cells": [
    {
      "cell_type": "markdown",
      "metadata": {
        "id": "view-in-github",
        "colab_type": "text"
      },
      "source": [
        "<a href=\"https://colab.research.google.com/github/trymeuj/RINEX_MajorProject1/blob/main/RINEX_MajorProject1.ipynb\" target=\"_parent\"><img src=\"https://colab.research.google.com/assets/colab-badge.svg\" alt=\"Open In Colab\"/></a>"
      ]
    },
    {
      "cell_type": "code",
      "execution_count": null,
      "metadata": {
        "id": "FPW9W2tb4Svl"
      },
      "outputs": [],
      "source": [
        "#   this is a ml model\n",
        "# rinex major project 1\n"
      ]
    },
    {
      "cell_type": "code",
      "source": [
        "import pandas as pd\n",
        "uj = pd.read_csv('https://raw.githubusercontent.com/trymeuj/datasets/main/Stores.csv')    # creating our dataframe from the dataset uploaded to my github account\n",
        "uj"
      ],
      "metadata": {
        "colab": {
          "base_uri": "https://localhost:8080/",
          "height": 424
        },
        "id": "9iKCYEjm4dSF",
        "outputId": "2a1776dc-bc21-4f9a-856c-6f170e6220a9"
      },
      "execution_count": 1,
      "outputs": [
        {
          "output_type": "execute_result",
          "data": {
            "text/plain": [
              "     Store ID   Store_Area  Items_Available  Daily_Customer_Count  Store_Sales\n",
              "0            1        1659             1961                   530        66490\n",
              "1            2        1461             1752                   210        39820\n",
              "2            3        1340             1609                   720        54010\n",
              "3            4        1451             1748                   620        53730\n",
              "4            5        1770             2111                   450        46620\n",
              "..         ...         ...              ...                   ...          ...\n",
              "891        892        1582             1910                  1080        66390\n",
              "892        893        1387             1663                   850        82080\n",
              "893        894        1200             1436                  1060        76440\n",
              "894        895        1299             1560                   770        96610\n",
              "895        896        1174             1429                  1110        54340\n",
              "\n",
              "[896 rows x 5 columns]"
            ],
            "text/html": [
              "\n",
              "  <div id=\"df-9a141827-6ccd-4b07-8f73-0651e3cc0390\">\n",
              "    <div class=\"colab-df-container\">\n",
              "      <div>\n",
              "<style scoped>\n",
              "    .dataframe tbody tr th:only-of-type {\n",
              "        vertical-align: middle;\n",
              "    }\n",
              "\n",
              "    .dataframe tbody tr th {\n",
              "        vertical-align: top;\n",
              "    }\n",
              "\n",
              "    .dataframe thead th {\n",
              "        text-align: right;\n",
              "    }\n",
              "</style>\n",
              "<table border=\"1\" class=\"dataframe\">\n",
              "  <thead>\n",
              "    <tr style=\"text-align: right;\">\n",
              "      <th></th>\n",
              "      <th>Store ID</th>\n",
              "      <th>Store_Area</th>\n",
              "      <th>Items_Available</th>\n",
              "      <th>Daily_Customer_Count</th>\n",
              "      <th>Store_Sales</th>\n",
              "    </tr>\n",
              "  </thead>\n",
              "  <tbody>\n",
              "    <tr>\n",
              "      <th>0</th>\n",
              "      <td>1</td>\n",
              "      <td>1659</td>\n",
              "      <td>1961</td>\n",
              "      <td>530</td>\n",
              "      <td>66490</td>\n",
              "    </tr>\n",
              "    <tr>\n",
              "      <th>1</th>\n",
              "      <td>2</td>\n",
              "      <td>1461</td>\n",
              "      <td>1752</td>\n",
              "      <td>210</td>\n",
              "      <td>39820</td>\n",
              "    </tr>\n",
              "    <tr>\n",
              "      <th>2</th>\n",
              "      <td>3</td>\n",
              "      <td>1340</td>\n",
              "      <td>1609</td>\n",
              "      <td>720</td>\n",
              "      <td>54010</td>\n",
              "    </tr>\n",
              "    <tr>\n",
              "      <th>3</th>\n",
              "      <td>4</td>\n",
              "      <td>1451</td>\n",
              "      <td>1748</td>\n",
              "      <td>620</td>\n",
              "      <td>53730</td>\n",
              "    </tr>\n",
              "    <tr>\n",
              "      <th>4</th>\n",
              "      <td>5</td>\n",
              "      <td>1770</td>\n",
              "      <td>2111</td>\n",
              "      <td>450</td>\n",
              "      <td>46620</td>\n",
              "    </tr>\n",
              "    <tr>\n",
              "      <th>...</th>\n",
              "      <td>...</td>\n",
              "      <td>...</td>\n",
              "      <td>...</td>\n",
              "      <td>...</td>\n",
              "      <td>...</td>\n",
              "    </tr>\n",
              "    <tr>\n",
              "      <th>891</th>\n",
              "      <td>892</td>\n",
              "      <td>1582</td>\n",
              "      <td>1910</td>\n",
              "      <td>1080</td>\n",
              "      <td>66390</td>\n",
              "    </tr>\n",
              "    <tr>\n",
              "      <th>892</th>\n",
              "      <td>893</td>\n",
              "      <td>1387</td>\n",
              "      <td>1663</td>\n",
              "      <td>850</td>\n",
              "      <td>82080</td>\n",
              "    </tr>\n",
              "    <tr>\n",
              "      <th>893</th>\n",
              "      <td>894</td>\n",
              "      <td>1200</td>\n",
              "      <td>1436</td>\n",
              "      <td>1060</td>\n",
              "      <td>76440</td>\n",
              "    </tr>\n",
              "    <tr>\n",
              "      <th>894</th>\n",
              "      <td>895</td>\n",
              "      <td>1299</td>\n",
              "      <td>1560</td>\n",
              "      <td>770</td>\n",
              "      <td>96610</td>\n",
              "    </tr>\n",
              "    <tr>\n",
              "      <th>895</th>\n",
              "      <td>896</td>\n",
              "      <td>1174</td>\n",
              "      <td>1429</td>\n",
              "      <td>1110</td>\n",
              "      <td>54340</td>\n",
              "    </tr>\n",
              "  </tbody>\n",
              "</table>\n",
              "<p>896 rows × 5 columns</p>\n",
              "</div>\n",
              "      <button class=\"colab-df-convert\" onclick=\"convertToInteractive('df-9a141827-6ccd-4b07-8f73-0651e3cc0390')\"\n",
              "              title=\"Convert this dataframe to an interactive table.\"\n",
              "              style=\"display:none;\">\n",
              "        \n",
              "  <svg xmlns=\"http://www.w3.org/2000/svg\" height=\"24px\"viewBox=\"0 0 24 24\"\n",
              "       width=\"24px\">\n",
              "    <path d=\"M0 0h24v24H0V0z\" fill=\"none\"/>\n",
              "    <path d=\"M18.56 5.44l.94 2.06.94-2.06 2.06-.94-2.06-.94-.94-2.06-.94 2.06-2.06.94zm-11 1L8.5 8.5l.94-2.06 2.06-.94-2.06-.94L8.5 2.5l-.94 2.06-2.06.94zm10 10l.94 2.06.94-2.06 2.06-.94-2.06-.94-.94-2.06-.94 2.06-2.06.94z\"/><path d=\"M17.41 7.96l-1.37-1.37c-.4-.4-.92-.59-1.43-.59-.52 0-1.04.2-1.43.59L10.3 9.45l-7.72 7.72c-.78.78-.78 2.05 0 2.83L4 21.41c.39.39.9.59 1.41.59.51 0 1.02-.2 1.41-.59l7.78-7.78 2.81-2.81c.8-.78.8-2.07 0-2.86zM5.41 20L4 18.59l7.72-7.72 1.47 1.35L5.41 20z\"/>\n",
              "  </svg>\n",
              "      </button>\n",
              "      \n",
              "  <style>\n",
              "    .colab-df-container {\n",
              "      display:flex;\n",
              "      flex-wrap:wrap;\n",
              "      gap: 12px;\n",
              "    }\n",
              "\n",
              "    .colab-df-convert {\n",
              "      background-color: #E8F0FE;\n",
              "      border: none;\n",
              "      border-radius: 50%;\n",
              "      cursor: pointer;\n",
              "      display: none;\n",
              "      fill: #1967D2;\n",
              "      height: 32px;\n",
              "      padding: 0 0 0 0;\n",
              "      width: 32px;\n",
              "    }\n",
              "\n",
              "    .colab-df-convert:hover {\n",
              "      background-color: #E2EBFA;\n",
              "      box-shadow: 0px 1px 2px rgba(60, 64, 67, 0.3), 0px 1px 3px 1px rgba(60, 64, 67, 0.15);\n",
              "      fill: #174EA6;\n",
              "    }\n",
              "\n",
              "    [theme=dark] .colab-df-convert {\n",
              "      background-color: #3B4455;\n",
              "      fill: #D2E3FC;\n",
              "    }\n",
              "\n",
              "    [theme=dark] .colab-df-convert:hover {\n",
              "      background-color: #434B5C;\n",
              "      box-shadow: 0px 1px 3px 1px rgba(0, 0, 0, 0.15);\n",
              "      filter: drop-shadow(0px 1px 2px rgba(0, 0, 0, 0.3));\n",
              "      fill: #FFFFFF;\n",
              "    }\n",
              "  </style>\n",
              "\n",
              "      <script>\n",
              "        const buttonEl =\n",
              "          document.querySelector('#df-9a141827-6ccd-4b07-8f73-0651e3cc0390 button.colab-df-convert');\n",
              "        buttonEl.style.display =\n",
              "          google.colab.kernel.accessAllowed ? 'block' : 'none';\n",
              "\n",
              "        async function convertToInteractive(key) {\n",
              "          const element = document.querySelector('#df-9a141827-6ccd-4b07-8f73-0651e3cc0390');\n",
              "          const dataTable =\n",
              "            await google.colab.kernel.invokeFunction('convertToInteractive',\n",
              "                                                     [key], {});\n",
              "          if (!dataTable) return;\n",
              "\n",
              "          const docLinkHtml = 'Like what you see? Visit the ' +\n",
              "            '<a target=\"_blank\" href=https://colab.research.google.com/notebooks/data_table.ipynb>data table notebook</a>'\n",
              "            + ' to learn more about interactive tables.';\n",
              "          element.innerHTML = '';\n",
              "          dataTable['output_type'] = 'display_data';\n",
              "          await google.colab.output.renderOutput(dataTable, element);\n",
              "          const docLink = document.createElement('div');\n",
              "          docLink.innerHTML = docLinkHtml;\n",
              "          element.appendChild(docLink);\n",
              "        }\n",
              "      </script>\n",
              "    </div>\n",
              "  </div>\n",
              "  "
            ]
          },
          "metadata": {},
          "execution_count": 1
        }
      ]
    },
    {
      "cell_type": "code",
      "source": [
        "import seaborn as sns\n",
        "sns.distplot(uj['Store_Sales'])"
      ],
      "metadata": {
        "colab": {
          "base_uri": "https://localhost:8080/",
          "height": 363
        },
        "id": "gBU0Yp6PBTZ-",
        "outputId": "99304d35-69ef-41f0-f5c8-9bb2564cfea8"
      },
      "execution_count": 2,
      "outputs": [
        {
          "output_type": "stream",
          "name": "stderr",
          "text": [
            "/usr/local/lib/python3.7/dist-packages/seaborn/distributions.py:2619: FutureWarning: `distplot` is a deprecated function and will be removed in a future version. Please adapt your code to use either `displot` (a figure-level function with similar flexibility) or `histplot` (an axes-level function for histograms).\n",
            "  warnings.warn(msg, FutureWarning)\n"
          ]
        },
        {
          "output_type": "execute_result",
          "data": {
            "text/plain": [
              "<matplotlib.axes._subplots.AxesSubplot at 0x7f0a81a8df50>"
            ]
          },
          "metadata": {},
          "execution_count": 2
        },
        {
          "output_type": "display_data",
          "data": {
            "text/plain": [
              "<Figure size 432x288 with 1 Axes>"
            ],
            "image/png": "[encoded data removed]"
          },
          "metadata": {
            "needs_background": "light"
          }
        }
      ]
    },
    {
      "cell_type": "code",
      "source": [
        "uj.info()"
      ],
      "metadata": {
        "colab": {
          "base_uri": "https://localhost:8080/"
        },
        "id": "VJ9fUQnO4vQZ",
        "outputId": "4a74823e-a6af-4044-f566-cac93b0444b6"
      },
      "execution_count": 3,
      "outputs": [
        {
          "output_type": "stream",
          "name": "stdout",
          "text": [
            "<class 'pandas.core.frame.DataFrame'>\n",
            "RangeIndex: 896 entries, 0 to 895\n",
            "Data columns (total 5 columns):\n",
            " #   Column                Non-Null Count  Dtype\n",
            "---  ------                --------------  -----\n",
            " 0   Store ID              896 non-null    int64\n",
            " 1   Store_Area            896 non-null    int64\n",
            " 2   Items_Available       896 non-null    int64\n",
            " 3   Daily_Customer_Count  896 non-null    int64\n",
            " 4   Store_Sales           896 non-null    int64\n",
            "dtypes: int64(5)\n",
            "memory usage: 35.1 KB\n"
          ]
        }
      ]
    },
    {
      "cell_type": "code",
      "source": [
        "# here is our input ,x\n",
        "x = uj.iloc[:,1:4].values\n",
        "x"
      ],
      "metadata": {
        "colab": {
          "base_uri": "https://localhost:8080/"
        },
        "id": "WxOgg_dB4yH1",
        "outputId": "f349fac5-317c-4198-91ba-c060f014592b"
      },
      "execution_count": 4,
      "outputs": [
        {
          "output_type": "execute_result",
          "data": {
            "text/plain": [
              "array([[1659, 1961,  530],\n",
              "       [1461, 1752,  210],\n",
              "       [1340, 1609,  720],\n",
              "       ...,\n",
              "       [1200, 1436, 1060],\n",
              "       [1299, 1560,  770],\n",
              "       [1174, 1429, 1110]])"
            ]
          },
          "metadata": {},
          "execution_count": 4
        }
      ]
    },
    {
      "cell_type": "code",
      "source": [
        "# here is our output,y\n",
        "y = uj.iloc[:,4].values\n",
        "y\n"
      ],
      "metadata": {
        "colab": {
          "base_uri": "https://localhost:8080/"
        },
        "id": "phhg-t9F45am",
        "outputId": "70a07540-0dc4-46b7-f1d0-31c062e3a0d2"
      },
      "execution_count": 5,
      "outputs": [
        {
          "output_type": "execute_result",
          "data": {
            "text/plain": [
              "array([ 66490,  39820,  54010,  53730,  46620,  45260,  72240,  37720,\n",
              "        46310,  44150,  71280,  57620,  60470,  59130,  66360,  78870,\n",
              "        77250,  38170,  63540,  40190,  43460,  68890,  52780,  50680,\n",
              "        41880,  70050,  25820,  60530,  78100,  84860,  80140,  14920,\n",
              "        60460,  74560,  72430,  45460,  41570,  62870,  55170,  45480,\n",
              "        49550,  48140,  67640,  39730,  35800,  49270,  66510,  62530,\n",
              "        59980,  76350,  81820,  57830,  70450,  67000,  64090,  48670,\n",
              "        66210,  83660,  70770,  53870,  71300,  46100,  49100,  65920,\n",
              "        58660,  69130,  49080,  72710,  33430,  42430,  56650,  33580,\n",
              "        67370,  71780,  84840,  82070,  26770,  65560,  38660,  65660,\n",
              "        40700,  88910,  57860,  42670,  90180,  51280,  97260,  39650,\n",
              "        45720,  42060,  65350,  67080,  54030,  56360,  77120,  50810,\n",
              "        60960,  61180,  63660,  41190,  78420,  65580,  89080,  94170,\n",
              "        50950,  65180,  69310,  79210,  23740,  36330,  51700,  62950,\n",
              "        56010,  45080,  46830,  64750,  80780,  31180,  56710,  49390,\n",
              "        66000,  32770,  46580,  79780,  35510,  80970,  61150,  49210,\n",
              "        79950,  68740,  57480,  72630,  50070,  40490,  51850,  42840,\n",
              "        60940,  62280,  76530,  85130,  48590,  73080,  48950,  48560,\n",
              "        59380,  51190,  58920,  50360,  38070,  49170,  39740,  63730,\n",
              "        85330,  27410,  37320,  71120,  72800,  34410,  42530,  54300,\n",
              "        50780,  45020,  69600,  80340,  37810,  46140,  99570,  38650,\n",
              "        49800,  69910,  44910,  78470,  47460,  33460,  44090,  42620,\n",
              "        69450,  73120,  48300,  58090,  74250,  40930,  70930,  64670,\n",
              "        77420,  32330,  41080,  42860,  68450,  39730,  83750,  69940,\n",
              "        67710,  67360,  52460,  88760,  67030,  78230,  62270,  49760,\n",
              "        73660,  72320,  68890,  34180,  58260,  38120,  49070,  61660,\n",
              "        37830,  52270,  52280,  70810,  71530,  77260,  75550,  33730,\n",
              "        66270,  55820,  68430,  73990,  62800,  33740,  63830,  24410,\n",
              "        70020,  92240,  68230,  81870,  73860,  77120,  72350,  49160,\n",
              "        45650,  52780,  90960,  64950,  47230,  83250,  51950,  66030,\n",
              "        68590,  47140,  69940,  65890,  89310,  58540,  78130,  92300,\n",
              "        56170,  46050,  43390,  61750,  21830,  39800,  54370,  62470,\n",
              "        82930,  63720,  79180,  38210,  25950,  56610,  73710,  70400,\n",
              "        50440,  66840,  50170,  60140,  37130,  42890,  26220,  50840,\n",
              "        25630,  60770,  69600,  41740,  50130,  21750,  80490,  34020,\n",
              "        60240,  39460,  56440,  46840,  64820,  52520,  45940,  38970,\n",
              "        58610,  30810,  47730,  64640,  44860,  55660,  57530,  75200,\n",
              "        37330,  35280,  70610,  49720,  68850,  50740,  77070,  74730,\n",
              "        76530,  68900,  44960,  41490,  74320,  73800,  56400,  71570,\n",
              "        43640,  35120,  58670,  75800,  76640,  31890,  61670,  75950,\n",
              "        41490,  66170,  37980,  62710,  60470,  35230,  48550,  56810,\n",
              "        41080,  51270,  57500,  81470,  49570,  45580,  44660,  76240,\n",
              "        43720,  46700,  84690,  85470,  80410,  46650,  81840,  63590,\n",
              "        50130,  45820,  86710,  49980,  82940,  40350,  93950,  47310,\n",
              "        21300,  62180,  61460,  54360,  72050,  48090,  27310,  57160,\n",
              "        34190,  35600,  54670,  76730,  63540,  36690,  87370,  59800,\n",
              "        48030,  96650,  65500,  55530,  21650,  31940,  84690,  68390,\n",
              "        75490,  39200,  85670,  60530,  78090,  50720,  23090,  91360,\n",
              "        48120,  75620,  39420,  51130,  33890,  87170,  38600,  60980,\n",
              "        79410,  82350,  36740,  27720,  32260,  53270,  51480,  59970,\n",
              "        83600,  63020,  50920,  56450,  89540,  46030,  75110,  74520,\n",
              "       102310,  53400,  59760,  49540,  51560,  49510,  58610,  68260,\n",
              "        65310,  52090,  43860,  74170,  58380,  91200,  90940,  49330,\n",
              "        53500,  54590,  57450,  33240,  80790,  61000,  47620,  72090,\n",
              "       102920,  61970,  61040,  52060,  69570,  66020,  40000,  79500,\n",
              "        76300,  69030,  57140,  41710,  71480,  33010,  74570,  49590,\n",
              "        73170,  79220,  75880,  67610,  69090,  35220,  53940,  56660,\n",
              "        67520,  38620,  38890,  79270,  42880,  44240,  43190,  74550,\n",
              "        57090,  56480,  87410,  81370,  97360,  77960,  71240,  58940,\n",
              "        78950,  36380,  45160,  69050,  56830,  93530,  46920,  55990,\n",
              "        40840,  64990,  53550,  51320,  36560,  66050,  52400,  27970,\n",
              "        67100,  43710,  38600,  53890,  52610,  43130,  40300,  49750,\n",
              "        43840,  56820,  36350,  50820,  83720,  46970,  78020,  45080,\n",
              "        55160,  72020,  64010,  27840,  58070,  51760,  66050,  65750,\n",
              "        65820,  46760,  50940,  56440,  32610,  62770,  63600,  45840,\n",
              "        38280,  50960,  39480,  69610,  47800,  44890,  67420,  78870,\n",
              "        70310,  38530,  77570,  59920,  54450,  50250,  30790,  35420,\n",
              "        43470,  61000,  64780,  39030,  65900,  46050,  59070,  44670,\n",
              "        58390,  80370,  53230,  72000,  84040,  52540,  63510,  42240,\n",
              "        39580,  54610,  87330,  88410,  89760, 101780,  70290,  88210,\n",
              "        87160,  41540,  49170,  63950,  70810,  49590,  67290,  51240,\n",
              "        48540,  72410,  54370,  94460,  85160,  52130,  54650,  69320,\n",
              "        51480,  50060,  62180,  79780,  42860,  54410,  69390,  42810,\n",
              "        30840,  56260,  76470,  35680,  90070,  33120,  54060,  75120,\n",
              "        41600,  20270,  60060,  82270,  29170,  68420,  59130,  74330,\n",
              "        77080,  76250,  59540,  54690,  84360,  51420,  65120,  49380,\n",
              "        37830,  35980,  69190,  50590,  60800,  31180,  77790,  47570,\n",
              "        69130,  75970,  68350,  41680,  86560,  81390,  50730,  71290,\n",
              "        70110,  61590,  69370,  67110,  82020,  62050,  61730,  58660,\n",
              "        53370,  39700,  53750,  44730,  49350,  43340,  78090,  54950,\n",
              "        75530,  57330,  87930,  56850,  78430,  63660,  62960,  81870,\n",
              "        54820, 116320,  57200,  84360,  36530,  81260,  82350,  80830,\n",
              "        30610,  51310,  72940,  52450,  66070,  43190,  40730,  78530,\n",
              "        94690,  44400,  73800,  37390,  64120,  66160,  22310,  62380,\n",
              "        63850,  36210,  54590,  69610,  65390,  78130,  55710,  69210,\n",
              "        59940,  72550,  44260,  56910,  82390,  54590,  69990,  72740,\n",
              "        35360,  94370,  43520,  36000,  99480,  83220,  52940,  93360,\n",
              "        73590,  53840,  47350,  65080,  62050,  30020,  49510,  64320,\n",
              "        35590,  63050,  65300,  69560,  41910,  28330,  55980,  61080,\n",
              "        51380,  84410,  60680,  64690,  45780,  41800,  53230,  36160,\n",
              "        40450,  57910,  36280,  39190,  62380,  21470,  34610,  88120,\n",
              "        59190,  36290,  53760,  66300,  93000,  65660,  81930,  60060,\n",
              "        59530,  46380,  76200,  56860,  86620,  49730,  88370,  49160,\n",
              "        77740,  38560,  51990,  39970,  46040,  49500,  76670,  75800,\n",
              "        81720,  58440,  85720,  70940,  62420,  56880, 101820,  86890,\n",
              "        47300,  31270,  65410,  54200,  67390,  54530,  79760,  78060,\n",
              "        74080,  52990,  70580,  34310,  74160,  59190,  43370,  17670,\n",
              "        56710,  59820,  36190,  60440,  75300,  74080,  60440,  80720,\n",
              "        47060,  86830,  56790,  67090,  44370,  82970,  56230,  53760,\n",
              "        55390,  73500,  41050,  67320,  65890,  56380,  85670,  70830,\n",
              "        48180,  51910,  44320,  58940,  73610,  54060,  85000,  49030,\n",
              "        63300,  84300,  81390,  95900,  71830,  79310,  87890,  48610,\n",
              "        73160,  36280,  49720,  44400,  47590,  51460,  57750,  66000,\n",
              "        45950,  53900,  37920,  63100,  36770,  43910,  66390,  59160,\n",
              "        38510,  46220,  41500,  58160,  38530,  55880,  70940,  53940,\n",
              "        43030,  59820,  55500,  49990,  42980,  65970,  59290,  63020,\n",
              "        73810,  70230,  59950,  78100,  16370,  92640,  63540,  87220,\n",
              "        41990,  79410,  54380,  58600,  48950,  40670,  52340,  39140,\n",
              "        41090,  25600, 100900,  77080, 105150,  80580,  46230,  98260,\n",
              "        75930,  52050,  87000,  60270,  88270,  57820,  61210,  76420,\n",
              "        70980,  76740,  47920,  52160,  32740,  72270,  77430,  92370,\n",
              "        34880,  46580,  70620,  66390,  82080,  76440,  96610,  54340])"
            ]
          },
          "metadata": {},
          "execution_count": 5
        }
      ]
    },
    {
      "cell_type": "code",
      "source": [
        "# so we have our i/p and o/p data, we now split them into training and testing data(75:25)\n",
        "from sklearn.model_selection import train_test_split\n",
        "x_train,x_test,y_train,y_test = train_test_split(x,y,random_state = 0)\n"
      ],
      "metadata": {
        "id": "AG-k29gc5VvY"
      },
      "execution_count": 6,
      "outputs": []
    },
    {
      "cell_type": "code",
      "source": [
        "x_train"
      ],
      "metadata": {
        "colab": {
          "base_uri": "https://localhost:8080/"
        },
        "id": "T6yPTjyt5rE0",
        "outputId": "3178f560-75da-46e9-d131-87d1f9d72eeb"
      },
      "execution_count": 7,
      "outputs": [
        {
          "output_type": "execute_result",
          "data": {
            "text/plain": [
              "array([[1653, 1982,  390],\n",
              "       [1583, 1907,  680],\n",
              "       [1334, 1584,  840],\n",
              "       ...,\n",
              "       [1887, 2264,  830],\n",
              "       [1237, 1512, 1070],\n",
              "       [1540, 1820,  310]])"
            ]
          },
          "metadata": {},
          "execution_count": 7
        }
      ]
    },
    {
      "cell_type": "code",
      "source": [
        "x_test"
      ],
      "metadata": {
        "colab": {
          "base_uri": "https://localhost:8080/"
        },
        "id": "dshB_PGO8MuW",
        "outputId": "7cf8876e-9078-4a68-b4fc-7d0d4660bc94"
      },
      "execution_count": 8,
      "outputs": [
        {
          "output_type": "execute_result",
          "data": {
            "text/plain": [
              "array([[1462, 1762, 1010],\n",
              "       [1704, 2045,  300],\n",
              "       [1659, 1999,  650],\n",
              "       [1250, 1508,  990],\n",
              "       [1784, 2142,  950],\n",
              "       [1850, 2214, 1110],\n",
              "       [1556, 1846,  760],\n",
              "       [1638, 1937, 1050],\n",
              "       [1535, 1819,  540],\n",
              "       [1834, 2184,  830],\n",
              "       [1619, 1957, 1280],\n",
              "       [1440, 1719,  580],\n",
              "       [1321, 1579,  770],\n",
              "       [1369, 1629,  770],\n",
              "       [1247, 1490,  330],\n",
              "       [1374, 1655, 1080],\n",
              "       [1332, 1586,  630],\n",
              "       [1450, 1728,  930],\n",
              "       [1092, 1314,  600],\n",
              "       [1000, 1215, 1070],\n",
              "       [1469, 1756,  770],\n",
              "       [1797, 2126,  730],\n",
              "       [1455, 1764,  390],\n",
              "       [1199, 1433, 1020],\n",
              "       [1236, 1484,  560],\n",
              "       [1468, 1744,  590],\n",
              "       [1316, 1597,  980],\n",
              "       [1471, 1768,  780],\n",
              "       [1214, 1455,  950],\n",
              "       [1165, 1390, 1220],\n",
              "       [1766, 2109, 1120],\n",
              "       [1772, 2146, 1030],\n",
              "       [1631, 1947,  670],\n",
              "       [1422, 1722,  560],\n",
              "       [1809, 2145,  940],\n",
              "       [1313, 1574,  920],\n",
              "       [1450, 1750,  480],\n",
              "       [1738, 2065,  750],\n",
              "       [1329, 1609, 1150],\n",
              "       [1502, 1815,  190],\n",
              "       [1455, 1757,  650],\n",
              "       [ 933, 1121,  940],\n",
              "       [1622, 1968,  210],\n",
              "       [1323, 1571,  850],\n",
              "       [1417, 1701,  740],\n",
              "       [1389, 1683,  680],\n",
              "       [1496, 1800,  780],\n",
              "       [1816, 2171, 1160],\n",
              "       [ 780,  951,  790],\n",
              "       [1873, 2252,  330],\n",
              "       [1395, 1662,  920],\n",
              "       [1614, 1938, 1110],\n",
              "       [1707, 2052,  920],\n",
              "       [ 919, 1099, 1560],\n",
              "       [1524, 1819, 1190],\n",
              "       [1609, 1943,  920],\n",
              "       [1214, 1456,  530],\n",
              "       [1397, 1686,  850],\n",
              "       [1124, 1369,  650],\n",
              "       [1439, 1735,  400],\n",
              "       [1751, 2115,  790],\n",
              "       [1429, 1695,  890],\n",
              "       [1250, 1475, 1390],\n",
              "       [1842, 2204,  930],\n",
              "       [1891, 2280,  360],\n",
              "       [1862, 2248, 1160],\n",
              "       [1552, 1869,  710],\n",
              "       [1881, 2244,  920],\n",
              "       [1189, 1439,  780],\n",
              "       [1503, 1791,  630],\n",
              "       [1090, 1321,  680],\n",
              "       [1748, 2086,  550],\n",
              "       [1604, 1909,  370],\n",
              "       [1597, 1918, 1260],\n",
              "       [1184, 1434,  670],\n",
              "       [1688, 2042,  760],\n",
              "       [1415, 1697, 1200],\n",
              "       [1812, 2189,  310],\n",
              "       [1836, 2195,  940],\n",
              "       [1241, 1488,  770],\n",
              "       [1375, 1648, 1020],\n",
              "       [1496, 1791, 1240],\n",
              "       [1688, 2037,  590],\n",
              "       [1637, 1958,  760],\n",
              "       [1291, 1546,  420],\n",
              "       [1390, 1648,  980],\n",
              "       [1121, 1345,  320],\n",
              "       [1439, 1746,  990],\n",
              "       [1153, 1381,  730],\n",
              "       [1777, 2117,  780],\n",
              "       [1497, 1815,  700],\n",
              "       [1934, 2349,  750],\n",
              "       [ 913, 1106,  860],\n",
              "       [1357, 1625, 1140],\n",
              "       [ 896, 1059,  870],\n",
              "       [1975, 2368,  450],\n",
              "       [2019, 2396,  540],\n",
              "       [1745, 2108,  730],\n",
              "       [1514, 1794, 1400],\n",
              "       [1485, 1785, 1340],\n",
              "       [1072, 1296,  900],\n",
              "       [1436, 1715, 1030],\n",
              "       [1498, 1770,  620],\n",
              "       [1641, 1999,  950],\n",
              "       [1434, 1729,  480],\n",
              "       [1057, 1262, 1490],\n",
              "       [1919, 2294,  760],\n",
              "       [2001, 2394,  540],\n",
              "       [1693, 2032,  610],\n",
              "       [1591, 1919,  640],\n",
              "       [1121, 1332,  790],\n",
              "       [1509, 1799,  960],\n",
              "       [1837, 2220,  340],\n",
              "       [1520, 1817,  850],\n",
              "       [ 775,  932, 1090],\n",
              "       [1550, 1845,  700],\n",
              "       [1540, 1857, 1020],\n",
              "       [1317, 1581,  910],\n",
              "       [1534, 1841,  680],\n",
              "       [1116, 1347,  700],\n",
              "       [1307, 1570, 1080],\n",
              "       [1118, 1337,  560],\n",
              "       [1208, 1459,  930],\n",
              "       [1417, 1689,  570],\n",
              "       [1354, 1635, 1270],\n",
              "       [1848, 2254, 1000],\n",
              "       [1397, 1661, 1410],\n",
              "       [1798, 2134,  820],\n",
              "       [1442, 1733,  760],\n",
              "       [1379, 1636,  440],\n",
              "       [1440, 1711, 1020],\n",
              "       [1327, 1590,  770],\n",
              "       [1971, 2342,  690],\n",
              "       [1588, 1906,  450],\n",
              "       [1571, 1877,  580],\n",
              "       [1314, 1576,  360],\n",
              "       [1788, 2133, 1000],\n",
              "       [1525, 1839,  540],\n",
              "       [1275, 1548,  370],\n",
              "       [1607, 1927,  940],\n",
              "       [ 869, 1050,  850],\n",
              "       [1174, 1411, 1080],\n",
              "       [1411, 1680, 1070],\n",
              "       [1435, 1725, 1250],\n",
              "       [1641, 1976,  620],\n",
              "       [1015, 1229,  930],\n",
              "       [1356, 1619,  700],\n",
              "       [1638, 1952,  690],\n",
              "       [1622, 1968,  340],\n",
              "       [1425, 1733,  760],\n",
              "       [1152, 1393,  860],\n",
              "       [1160, 1401,  900],\n",
              "       [1148, 1384,  730],\n",
              "       [1778, 2133,  280],\n",
              "       [1584, 1897, 1210],\n",
              "       [1523, 1813,  520],\n",
              "       [1347, 1628,  120],\n",
              "       [1472, 1748,  600],\n",
              "       [1462, 1761,  600],\n",
              "       [1608, 1945,  760],\n",
              "       [1463, 1751,  900],\n",
              "       [1174, 1396, 1100],\n",
              "       [1546, 1845,  760],\n",
              "       [1484, 1774,  940],\n",
              "       [1390, 1646,  800],\n",
              "       [1701, 2030,  830],\n",
              "       [1454, 1737,  870],\n",
              "       [1211, 1447, 1110],\n",
              "       [1387, 1663,  850],\n",
              "       [1199, 1461, 1070],\n",
              "       [1468, 1760,  280],\n",
              "       [1303, 1587, 1310],\n",
              "       [1635, 1956,  720],\n",
              "       [1691, 2026,  700],\n",
              "       [1187, 1417, 1230],\n",
              "       [1933, 2338, 1140],\n",
              "       [1550, 1871,  590],\n",
              "       [1554, 1852,  440],\n",
              "       [1174, 1429, 1110],\n",
              "       [1461, 1752,  210],\n",
              "       [1791, 2167,  700],\n",
              "       [1336, 1616,  710],\n",
              "       [1642, 1981,  720],\n",
              "       [1305, 1557,  580],\n",
              "       [1439, 1724,  900],\n",
              "       [1655, 1956,  800],\n",
              "       [1475, 1775,  230],\n",
              "       [1978, 2374,  800],\n",
              "       [1150, 1378,  730],\n",
              "       [1153, 1397, 1020],\n",
              "       [1473, 1785,  570],\n",
              "       [1513, 1825,  980],\n",
              "       [1777, 2145,  520],\n",
              "       [1501, 1822,  590],\n",
              "       [1296, 1559, 1070],\n",
              "       [1251, 1527,  380],\n",
              "       [1414, 1723,  680],\n",
              "       [1517, 1831,  610],\n",
              "       [1211, 1472,  790],\n",
              "       [1857, 2236, 1280],\n",
              "       [1015, 1216,  460],\n",
              "       [1688, 2046,  380],\n",
              "       [1574, 1876,  620],\n",
              "       [1320, 1562,  610],\n",
              "       [1297, 1529,  870],\n",
              "       [1570, 1898,  980],\n",
              "       [1227, 1471,  870],\n",
              "       [1007, 1207,  670],\n",
              "       [1165, 1411, 1020],\n",
              "       [1319, 1571, 1190],\n",
              "       [1458, 1725,  750],\n",
              "       [1428, 1719, 1060],\n",
              "       [1249, 1510,  660],\n",
              "       [1270, 1516,   10],\n",
              "       [1954, 2378,  810],\n",
              "       [1375, 1659, 1080],\n",
              "       [1438, 1731, 1030],\n",
              "       [1566, 1889,  610],\n",
              "       [1613, 1921, 1200],\n",
              "       [1588, 1892,  540],\n",
              "       [1309, 1572,  510],\n",
              "       [1533, 1817,  950],\n",
              "       [1514, 1820,  910],\n",
              "       [1461, 1739, 1250]])"
            ]
          },
          "metadata": {},
          "execution_count": 8
        }
      ]
    },
    {
      "cell_type": "code",
      "source": [
        "from sklearn.preprocessing import MinMaxScaler\n",
        "scaling = MinMaxScaler()\n",
        "scaling"
      ],
      "metadata": {
        "colab": {
          "base_uri": "https://localhost:8080/"
        },
        "id": "qUhIjvzZ95FQ",
        "outputId": "04196995-802d-4154-8ccb-84ad4bf13ec7"
      },
      "execution_count": 9,
      "outputs": [
        {
          "output_type": "execute_result",
          "data": {
            "text/plain": [
              "MinMaxScaler()"
            ]
          },
          "metadata": {},
          "execution_count": 9
        }
      ]
    },
    {
      "cell_type": "code",
      "source": [
        "    # NORMALISATION\n",
        "x_train = scaling.fit_transform(x_train)\n",
        "x_train"
      ],
      "metadata": {
        "id": "B1bY1SQS-lan",
        "colab": {
          "base_uri": "https://localhost:8080/"
        },
        "outputId": "9f4d0ba9-ef2d-49e7-a881-8edab9be2b53"
      },
      "execution_count": 20,
      "outputs": [
        {
          "output_type": "execute_result",
          "data": {
            "text/plain": [
              "array([[0.58109091, 0.58459673, 0.21917808],\n",
              "       [0.53018182, 0.53911461, 0.41780822],\n",
              "       [0.34909091, 0.34323833, 0.52739726],\n",
              "       ...,\n",
              "       [0.75127273, 0.75560946, 0.52054795],\n",
              "       [0.27854545, 0.2995755 , 0.68493151],\n",
              "       [0.49890909, 0.48635537, 0.16438356]])"
            ]
          },
          "metadata": {},
          "execution_count": 20
        }
      ]
    },
    {
      "cell_type": "code",
      "source": [
        "x_test = scaling.fit_transform(x_test)\n",
        "x_test"
      ],
      "metadata": {
        "colab": {
          "base_uri": "https://localhost:8080/"
        },
        "id": "6BeID9Z5A_Ym",
        "outputId": "04c2c243-6f1c-4ec7-a6cc-795b37beec1a"
      },
      "execution_count": 22,
      "outputs": [
        {
          "output_type": "execute_result",
          "data": {
            "text/plain": [
              "array([[0.5522508 , 0.56693989, 0.64516129],\n",
              "       [0.74678457, 0.7602459 , 0.18709677],\n",
              "       [0.71061093, 0.72882514, 0.41290323],\n",
              "       [0.3818328 , 0.39344262, 0.63225806],\n",
              "       [0.81109325, 0.82650273, 0.60645161],\n",
              "       [0.86414791, 0.87568306, 0.70967742],\n",
              "       [0.6278135 , 0.62431694, 0.48387097],\n",
              "       [0.6937299 , 0.68647541, 0.67096774],\n",
              "       [0.61093248, 0.60587432, 0.34193548],\n",
              "       [0.85128617, 0.85519126, 0.52903226],\n",
              "       [0.67845659, 0.70013661, 0.81935484],\n",
              "       [0.53456592, 0.53756831, 0.36774194],\n",
              "       [0.43890675, 0.44193989, 0.49032258],\n",
              "       [0.47749196, 0.4760929 , 0.49032258],\n",
              "       [0.37942122, 0.38114754, 0.20645161],\n",
              "       [0.48151125, 0.49385246, 0.69032258],\n",
              "       [0.4477492 , 0.44672131, 0.4       ],\n",
              "       [0.5426045 , 0.54371585, 0.59354839],\n",
              "       [0.25482315, 0.26092896, 0.38064516],\n",
              "       [0.18086817, 0.19330601, 0.68387097],\n",
              "       [0.55787781, 0.56284153, 0.49032258],\n",
              "       [0.82154341, 0.81557377, 0.46451613],\n",
              "       [0.54662379, 0.56830601, 0.24516129],\n",
              "       [0.34083601, 0.34221311, 0.6516129 ],\n",
              "       [0.37057878, 0.37704918, 0.35483871],\n",
              "       [0.55707395, 0.55464481, 0.37419355],\n",
              "       [0.43488746, 0.45423497, 0.62580645],\n",
              "       [0.55948553, 0.57103825, 0.49677419],\n",
              "       [0.35289389, 0.35724044, 0.60645161],\n",
              "       [0.31350482, 0.31284153, 0.78064516],\n",
              "       [0.79662379, 0.80396175, 0.71612903],\n",
              "       [0.80144695, 0.82923497, 0.65806452],\n",
              "       [0.68810289, 0.69330601, 0.42580645],\n",
              "       [0.52009646, 0.53961749, 0.35483871],\n",
              "       [0.83118971, 0.82855191, 0.6       ],\n",
              "       [0.43247588, 0.43852459, 0.58709677],\n",
              "       [0.5426045 , 0.55874317, 0.30322581],\n",
              "       [0.77411576, 0.7739071 , 0.47741935],\n",
              "       [0.44533762, 0.46243169, 0.73548387],\n",
              "       [0.58440514, 0.60314208, 0.11612903],\n",
              "       [0.54662379, 0.56352459, 0.41290323],\n",
              "       [0.12700965, 0.12909836, 0.6       ],\n",
              "       [0.68086817, 0.70765027, 0.12903226],\n",
              "       [0.44051447, 0.43647541, 0.54193548],\n",
              "       [0.51607717, 0.52527322, 0.47096774],\n",
              "       [0.49356913, 0.51297814, 0.43225806],\n",
              "       [0.57958199, 0.59289617, 0.49677419],\n",
              "       [0.83681672, 0.84631148, 0.74193548],\n",
              "       [0.00401929, 0.01297814, 0.50322581],\n",
              "       [0.88263666, 0.90163934, 0.20645161],\n",
              "       [0.49839228, 0.49863388, 0.58709677],\n",
              "       [0.6744373 , 0.68715847, 0.70967742],\n",
              "       [0.74919614, 0.76502732, 0.58709677],\n",
              "       [0.11575563, 0.11407104, 1.        ],\n",
              "       [0.60209003, 0.60587432, 0.76129032],\n",
              "       [0.67041801, 0.69057377, 0.58709677],\n",
              "       [0.35289389, 0.3579235 , 0.33548387],\n",
              "       [0.5       , 0.51502732, 0.54193548],\n",
              "       [0.28054662, 0.29849727, 0.41290323],\n",
              "       [0.53376206, 0.54849727, 0.2516129 ],\n",
              "       [0.78456592, 0.80806011, 0.50322581],\n",
              "       [0.52572347, 0.52117486, 0.56774194],\n",
              "       [0.3818328 , 0.37090164, 0.89032258],\n",
              "       [0.85771704, 0.86885246, 0.59354839],\n",
              "       [0.89710611, 0.92076503, 0.22580645],\n",
              "       [0.87379421, 0.8989071 , 0.74193548],\n",
              "       [0.62459807, 0.64002732, 0.4516129 ],\n",
              "       [0.88906752, 0.89617486, 0.58709677],\n",
              "       [0.33279743, 0.34631148, 0.49677419],\n",
              "       [0.585209  , 0.58674863, 0.4       ],\n",
              "       [0.25321543, 0.26571038, 0.43225806],\n",
              "       [0.78215434, 0.78825137, 0.3483871 ],\n",
              "       [0.66639871, 0.66734973, 0.23225806],\n",
              "       [0.6607717 , 0.67349727, 0.80645161],\n",
              "       [0.32877814, 0.34289617, 0.42580645],\n",
              "       [0.73392283, 0.75819672, 0.48387097],\n",
              "       [0.51446945, 0.52254098, 0.76774194],\n",
              "       [0.83360129, 0.85860656, 0.19354839],\n",
              "       [0.85289389, 0.86270492, 0.6       ],\n",
              "       [0.37459807, 0.37978142, 0.49032258],\n",
              "       [0.48231511, 0.48907104, 0.6516129 ],\n",
              "       [0.57958199, 0.58674863, 0.79354839],\n",
              "       [0.73392283, 0.75478142, 0.37419355],\n",
              "       [0.69292605, 0.70081967, 0.48387097],\n",
              "       [0.414791  , 0.41939891, 0.26451613],\n",
              "       [0.49437299, 0.48907104, 0.62580645],\n",
              "       [0.27813505, 0.28210383, 0.2       ],\n",
              "       [0.53376206, 0.55601093, 0.63225806],\n",
              "       [0.30385852, 0.30669399, 0.46451613],\n",
              "       [0.80546624, 0.80942623, 0.49677419],\n",
              "       [0.58038585, 0.60314208, 0.44516129],\n",
              "       [0.93167203, 0.96789617, 0.47741935],\n",
              "       [0.11093248, 0.11885246, 0.5483871 ],\n",
              "       [0.46784566, 0.47336066, 0.72903226],\n",
              "       [0.09726688, 0.08674863, 0.55483871],\n",
              "       [0.96463023, 0.98087432, 0.28387097],\n",
              "       [1.        , 1.        , 0.34193548],\n",
              "       [0.77974277, 0.80327869, 0.46451613],\n",
              "       [0.59405145, 0.58879781, 0.89677419],\n",
              "       [0.57073955, 0.58265027, 0.85806452],\n",
              "       [0.23874598, 0.24863388, 0.57419355],\n",
              "       [0.53135048, 0.53483607, 0.65806452],\n",
              "       [0.58118971, 0.57240437, 0.39354839],\n",
              "       [0.69614148, 0.72882514, 0.60645161],\n",
              "       [0.52974277, 0.54439891, 0.30322581],\n",
              "       [0.2266881 , 0.22540984, 0.95483871],\n",
              "       [0.91961415, 0.93032787, 0.48387097],\n",
              "       [0.98553055, 0.99863388, 0.34193548],\n",
              "       [0.73794212, 0.75136612, 0.38709677],\n",
              "       [0.65594855, 0.67418033, 0.40645161],\n",
              "       [0.27813505, 0.27322404, 0.50322581],\n",
              "       [0.59003215, 0.59221311, 0.61290323],\n",
              "       [0.85369775, 0.87978142, 0.21290323],\n",
              "       [0.5988746 , 0.6045082 , 0.54193548],\n",
              "       [0.        , 0.        , 0.69677419],\n",
              "       [0.62299035, 0.62363388, 0.44516129],\n",
              "       [0.61495177, 0.6318306 , 0.6516129 ],\n",
              "       [0.43569132, 0.44330601, 0.58064516],\n",
              "       [0.61012862, 0.62090164, 0.43225806],\n",
              "       [0.27411576, 0.28346995, 0.44516129],\n",
              "       [0.42765273, 0.43579235, 0.69032258],\n",
              "       [0.27572347, 0.27663934, 0.35483871],\n",
              "       [0.34807074, 0.35997268, 0.59354839],\n",
              "       [0.51607717, 0.5170765 , 0.36129032],\n",
              "       [0.46543408, 0.48019126, 0.81290323],\n",
              "       [0.86254019, 0.90300546, 0.63870968],\n",
              "       [0.5       , 0.49795082, 0.90322581],\n",
              "       [0.82234727, 0.82103825, 0.52258065],\n",
              "       [0.53617363, 0.54713115, 0.48387097],\n",
              "       [0.48553055, 0.48087432, 0.27741935],\n",
              "       [0.53456592, 0.53210383, 0.6516129 ],\n",
              "       [0.4437299 , 0.44945355, 0.49032258],\n",
              "       [0.96141479, 0.96311475, 0.43870968],\n",
              "       [0.65353698, 0.66530055, 0.28387097],\n",
              "       [0.63987138, 0.6454918 , 0.36774194],\n",
              "       [0.43327974, 0.43989071, 0.22580645],\n",
              "       [0.81430868, 0.82035519, 0.63870968],\n",
              "       [0.60289389, 0.61953552, 0.34193548],\n",
              "       [0.40192926, 0.42076503, 0.23225806],\n",
              "       [0.66881029, 0.67964481, 0.6       ],\n",
              "       [0.0755627 , 0.08060109, 0.54193548],\n",
              "       [0.32073955, 0.32718579, 0.69032258],\n",
              "       [0.51125402, 0.51092896, 0.68387097],\n",
              "       [0.53054662, 0.54166667, 0.8       ],\n",
              "       [0.69614148, 0.71311475, 0.39354839],\n",
              "       [0.19292605, 0.20286885, 0.59354839],\n",
              "       [0.4670418 , 0.4692623 , 0.44516129],\n",
              "       [0.6937299 , 0.69672131, 0.43870968],\n",
              "       [0.68086817, 0.70765027, 0.21290323],\n",
              "       [0.52250804, 0.54713115, 0.48387097],\n",
              "       [0.30305466, 0.31489071, 0.5483871 ],\n",
              "       [0.30948553, 0.32035519, 0.57419355],\n",
              "       [0.29983923, 0.30874317, 0.46451613],\n",
              "       [0.8062701 , 0.82035519, 0.17419355],\n",
              "       [0.65032154, 0.65915301, 0.77419355],\n",
              "       [0.60128617, 0.60177596, 0.32903226],\n",
              "       [0.45980707, 0.47540984, 0.07096774],\n",
              "       [0.56028939, 0.55737705, 0.38064516],\n",
              "       [0.5522508 , 0.56625683, 0.38064516],\n",
              "       [0.66961415, 0.69193989, 0.48387097],\n",
              "       [0.55305466, 0.55942623, 0.57419355],\n",
              "       [0.32073955, 0.31693989, 0.70322581],\n",
              "       [0.61977492, 0.62363388, 0.48387097],\n",
              "       [0.56993569, 0.57513661, 0.6       ],\n",
              "       [0.49437299, 0.48770492, 0.50967742],\n",
              "       [0.74437299, 0.75      , 0.52903226],\n",
              "       [0.54581994, 0.54986339, 0.55483871],\n",
              "       [0.35048232, 0.35177596, 0.70967742],\n",
              "       [0.49196141, 0.49931694, 0.54193548],\n",
              "       [0.34083601, 0.3613388 , 0.68387097],\n",
              "       [0.55707395, 0.56557377, 0.17419355],\n",
              "       [0.4244373 , 0.44740437, 0.83870968],\n",
              "       [0.69131833, 0.69945355, 0.45806452],\n",
              "       [0.73633441, 0.74726776, 0.44516129],\n",
              "       [0.33118971, 0.33128415, 0.78709677],\n",
              "       [0.93086817, 0.96038251, 0.72903226],\n",
              "       [0.62299035, 0.64139344, 0.37419355],\n",
              "       [0.62620579, 0.6284153 , 0.27741935],\n",
              "       [0.32073955, 0.33948087, 0.70967742],\n",
              "       [0.55144695, 0.56010929, 0.12903226],\n",
              "       [0.81672026, 0.84357923, 0.44516129],\n",
              "       [0.45096463, 0.46721311, 0.4516129 ],\n",
              "       [0.69694534, 0.71653005, 0.45806452],\n",
              "       [0.42604502, 0.42691257, 0.36774194],\n",
              "       [0.53376206, 0.54098361, 0.57419355],\n",
              "       [0.7073955 , 0.69945355, 0.50967742],\n",
              "       [0.56270096, 0.57581967, 0.14193548],\n",
              "       [0.9670418 , 0.98497268, 0.50967742],\n",
              "       [0.30144695, 0.30464481, 0.46451613],\n",
              "       [0.30385852, 0.31762295, 0.6516129 ],\n",
              "       [0.56109325, 0.58265027, 0.36129032],\n",
              "       [0.59324759, 0.60997268, 0.62580645],\n",
              "       [0.80546624, 0.82855191, 0.32903226],\n",
              "       [0.58360129, 0.6079235 , 0.37419355],\n",
              "       [0.41881029, 0.42827869, 0.68387097],\n",
              "       [0.38263666, 0.40642077, 0.23870968],\n",
              "       [0.51366559, 0.54030055, 0.43225806],\n",
              "       [0.59646302, 0.61407104, 0.38709677],\n",
              "       [0.35048232, 0.36885246, 0.50322581],\n",
              "       [0.86977492, 0.89071038, 0.81935484],\n",
              "       [0.19292605, 0.19398907, 0.29032258],\n",
              "       [0.73392283, 0.76092896, 0.23870968],\n",
              "       [0.64228296, 0.64480874, 0.39354839],\n",
              "       [0.43810289, 0.43032787, 0.38709677],\n",
              "       [0.41961415, 0.40778689, 0.55483871],\n",
              "       [0.63906752, 0.65983607, 0.62580645],\n",
              "       [0.36334405, 0.3681694 , 0.55483871],\n",
              "       [0.18649518, 0.18784153, 0.42580645],\n",
              "       [0.31350482, 0.32718579, 0.6516129 ],\n",
              "       [0.43729904, 0.43647541, 0.76129032],\n",
              "       [0.54903537, 0.54166667, 0.47741935],\n",
              "       [0.52491961, 0.53756831, 0.67741935],\n",
              "       [0.38102894, 0.39480874, 0.41935484],\n",
              "       [0.39790997, 0.3989071 , 0.        ],\n",
              "       [0.9477492 , 0.98770492, 0.51612903],\n",
              "       [0.48231511, 0.4965847 , 0.69032258],\n",
              "       [0.5329582 , 0.54576503, 0.65806452],\n",
              "       [0.63585209, 0.65368852, 0.38709677],\n",
              "       [0.67363344, 0.67554645, 0.76774194],\n",
              "       [0.65353698, 0.6557377 , 0.34193548],\n",
              "       [0.42926045, 0.43715847, 0.32258065],\n",
              "       [0.60932476, 0.6045082 , 0.60645161],\n",
              "       [0.59405145, 0.60655738, 0.58064516],\n",
              "       [0.55144695, 0.55122951, 0.8       ]])"
            ]
          },
          "metadata": {},
          "execution_count": 22
        }
      ]
    },
    {
      "cell_type": "code",
      "source": [
        "from sklearn.linear_model import LinearRegression\n",
        "model = LinearRegression()    # importorting the LinearRegression library\n",
        "model\n"
      ],
      "metadata": {
        "colab": {
          "base_uri": "https://localhost:8080/"
        },
        "id": "Ml-VB9VM51Ld",
        "outputId": "23b4e2d3-6e99-44ae-dd70-5636d004c9f7"
      },
      "execution_count": 23,
      "outputs": [
        {
          "output_type": "execute_result",
          "data": {
            "text/plain": [
              "LinearRegression()"
            ]
          },
          "metadata": {},
          "execution_count": 23
        }
      ]
    },
    {
      "cell_type": "code",
      "source": [
        "model.fit(x_train,y_train)   # fitting the trainig data "
      ],
      "metadata": {
        "colab": {
          "base_uri": "https://localhost:8080/"
        },
        "id": "_oZlKTV86MSp",
        "outputId": "946b27a7-eae8-4ad4-cf4d-4065e6102b69"
      },
      "execution_count": 24,
      "outputs": [
        {
          "output_type": "execute_result",
          "data": {
            "text/plain": [
              "LinearRegression()"
            ]
          },
          "metadata": {},
          "execution_count": 24
        }
      ]
    },
    {
      "cell_type": "code",
      "source": [
        "y_pred = model.predict(x_test)   # y_pred is the output set of predicted values for testing data\n",
        "y_pred"
      ],
      "metadata": {
        "colab": {
          "base_uri": "https://localhost:8080/"
        },
        "id": "uslpDGUU6t7u",
        "outputId": "c915759a-4903-4184-826c-4c90dc6657b9"
      },
      "execution_count": 25,
      "outputs": [
        {
          "output_type": "execute_result",
          "data": {
            "text/plain": [
              "array([61481.69185545, 61324.32008238, 62108.34470008, 59997.32707113,\n",
              "       63287.02435028, 63755.96033742, 60314.85769808, 61158.43823128,\n",
              "       59627.02371505, 62573.71868457, 63426.16397002, 59683.17864235,\n",
              "       59388.37980536, 59378.96157141, 57944.42271399, 60960.14286668,\n",
              "       58892.33345904, 60353.88060521, 57892.03798577, 58756.81627066,\n",
              "       60380.92113761, 61500.09868071, 60594.92723651, 59091.7193579 ,\n",
              "       58674.47901926, 59512.29471269, 60869.34765704, 60845.23791153,\n",
              "       59226.78919056, 59179.70464416, 63010.50870336, 64195.84087364,\n",
              "       61134.31760298, 60617.76238081, 62230.18722965, 59854.53405722,\n",
              "       60391.83156728, 61574.24126567, 61155.33000382, 60256.45275162,\n",
              "       60828.51951563, 57413.4742813 , 61527.70851236, 59105.090574  ,\n",
              "       60290.75052036, 60669.67028132, 61106.91299527, 63528.49697338,\n",
              "       56652.67558354, 62739.34941361, 59954.02489354, 62452.58679642,\n",
              "       62800.95634297, 58388.24831904, 61508.78085377, 62510.72825329,\n",
              "       58388.27373851, 60786.99161255, 58960.29203661, 60067.29374301,\n",
              "       63286.98399549, 59776.14038991, 59362.07810248, 63304.42371477,\n",
              "       63212.75941706, 64820.6818576 , 61425.95055242, 63247.77850918,\n",
              "       59323.45793682, 60061.1891613 , 58467.06500868, 61625.18740269,\n",
              "       60066.90296738, 62668.84014281, 59102.43098614, 62906.29252781,\n",
              "       61172.76566754, 62733.4931823 , 63203.59378991, 59061.06430137,\n",
              "       60473.97684449, 61671.62193724, 62325.08021362, 61534.92816558,\n",
              "       58579.92300555, 59687.83949425, 57332.93009749, 61800.20689065,\n",
              "       58308.18630238, 62138.60492541, 61562.984066  , 65107.58818391,\n",
              "       57510.14708312, 60539.71933518, 56223.98093242, 63407.91708221,\n",
              "       62790.67584818, 63128.42623804, 61299.90155168, 62128.28941226,\n",
              "       58653.62506203, 60637.76624086, 59334.60901048, 63581.66325285,\n",
              "       60201.09431393, 59075.22132513, 63369.89352169, 63543.61556283,\n",
              "       61909.43028642, 61690.53357442, 57739.70587439, 60832.29525806,\n",
              "       63013.51722733, 60891.48709827, 56667.50418087, 60424.74455325,\n",
              "       62102.6027059 , 59959.48480589, 60952.54054896, 58455.55411916,\n",
              "       60292.85662651, 57620.12532982, 59644.49952967, 59396.35282478,\n",
              "       61400.91939517, 65407.86443939, 60846.14735438, 62000.49284038,\n",
              "       60594.48542414, 58530.14811539, 60250.56853305, 59599.72117778,\n",
              "       62936.57965735, 60849.73883206, 60621.26543947, 58719.53945298,\n",
              "       62802.30225873, 60989.85089724, 59313.07388382, 61930.53813435,\n",
              "       57042.88607172, 59403.63142198, 60325.98849088, 61594.63312968,\n",
              "       61858.63854047, 58386.75058303, 59392.75986237, 61072.47300214,\n",
              "       61801.09734262, 61390.10549565, 59165.26553857, 59232.9018834 ,\n",
              "       58676.41451208, 61756.16054409, 62232.54979732, 59878.13345051,\n",
              "       58996.90262626, 59525.08297508, 60574.72477587, 62310.53241119,\n",
              "       60711.41320808, 58774.57971046, 60738.12873608, 60841.74573567,\n",
              "       59219.81957636, 61908.19732389, 60443.16334132, 59345.74514274,\n",
              "       60225.96573759, 60449.61043358, 59576.21980241, 61724.34234878,\n",
              "       61454.92934931, 61923.85722532, 59379.1093361 , 65482.40739887,\n",
              "       61356.67553108, 60003.94755143, 60272.05498992, 59398.69254685,\n",
              "       63552.18755432, 60215.59107961, 62245.84030385, 58753.33349286,\n",
              "       60626.64078751, 60687.14501593, 59814.57351914, 64272.00500349,\n",
              "       58314.3675381 , 59633.90599329, 61070.60050887, 61850.41034343,\n",
              "       62844.56879049, 61457.63571448, 60294.49124746, 59517.7759859 ,\n",
              "       61289.27151523, 61153.54356262, 59791.30724139, 64770.15745597,\n",
              "       56816.71481808, 62286.11902214, 60520.24076874, 58338.10935662,\n",
              "       58484.86880326, 62448.81916512, 59165.98686194, 57230.08545497,\n",
              "       59698.66258796, 60007.31223737, 59466.71047312, 61254.22849142,\n",
              "       59439.6227587 , 57358.29842583, 65595.22632484, 61092.30476109,\n",
              "       61260.01617984, 61455.25029816, 61928.06409817, 60412.63725944,\n",
              "       59090.03093158, 60493.37084966, 61432.69594876, 61004.17319487])"
            ]
          },
          "metadata": {},
          "execution_count": 25
        }
      ]
    },
    {
      "cell_type": "code",
      "source": [
        "y_test   # the actual output for testing data"
      ],
      "metadata": {
        "colab": {
          "base_uri": "https://localhost:8080/"
        },
        "id": "A1qgsLGi68I7",
        "outputId": "26b3f589-a4e0-4b2f-b861-f0b16c6caa5a"
      },
      "execution_count": 26,
      "outputs": [
        {
          "output_type": "execute_result",
          "data": {
            "text/plain": [
              "array([ 51190,  71300,  65660,  14920,  64010,  85000,  72020,  70940,\n",
              "        59290,  94460,  45580,  66050,  68890,  39740,  65750,  94170,\n",
              "        61670,  38560,  76530,  52520,  66360,  55710,  84690,  73710,\n",
              "        31890,  73660,  36560,  70610,  87220,  54610,  57910,  48540,\n",
              "        84410,  58660,  36530,  43130,  46700,  56480,  68590,  55980,\n",
              "        67520,  55990,  64780,  27970,  48670,  56880,  63300,  61180,\n",
              "        25600,  79310,  90940,  53230,  69130,  73810,  39970,  40300,\n",
              "        48950,  21300,  63540,  62470,  67360,  53890,  65560,  51320,\n",
              "        51560,  51910,  78870,  66030,  26220,  68350,  46310,  53760,\n",
              "        33730,  71830,  47230,  73080,  39420,  78090,  45160,  54690,\n",
              "        72430,  67030,  50960,  59940,  93950,  60530,  85670,  80140,\n",
              "        53270,  38280,  59190,  52990,  56610,  52160,  75110,  86830,\n",
              "        71570,  46920,  54820,  66160,  47590,  48180,  59380,  93000,\n",
              "        49510,  35420,  65580,  79180,  41910,  52340,  54590,  38600,\n",
              "        50840,  63600,  42530,  61750,  58260,  30020,  87930,  74080,\n",
              "        41710,  72270,  41490,  34310,  95900,  59970,  49160,  72050,\n",
              "        45260,  36770,  88120,  81870,  86560,  46970,  54670,  55660,\n",
              "        54590,  51310,  82970,  45080,  52540,  62870,  61590,  49550,\n",
              "        46050,  31180,  42620,  81840,  69610,  66000,  54380,  35360,\n",
              "        47800,  45950,  47310,  44960,  72350,  49100,  65660,  37830,\n",
              "        49990,  40930,  59070,  59800,  46840,  60140,  23090,  40730,\n",
              "        82080,  54370,  51280, 102310,  82070,  60530,  58940,  44730,\n",
              "        74320,  48120,  54340,  39820,  64320,  86620,  54450,  55500,\n",
              "        50920,  47350,  72740,  48590,  67390,  50440,  80720,  75950,\n",
              "        80790,  49350,  92300,  63830,  69600,  30840,  65390,  67420,\n",
              "        27310,  53550,  56230,  87170,  52940,  64090,  49270,  47460,\n",
              "        38620,  25630,  75550,  39800,  48950,  45480,  45820,  76640,\n",
              "        63540,  56400,  72800,  57750,  52280,  84360,  81820,  22310])"
            ]
          },
          "metadata": {},
          "execution_count": 26
        }
      ]
    },
    {
      "cell_type": "code",
      "source": [
        "a = scaling.fit_transform([[1327,1678,120]])\n",
        "model.predict(a)"
      ],
      "metadata": {
        "colab": {
          "base_uri": "https://localhost:8080/"
        },
        "id": "wQBbE9bP8jHa",
        "outputId": "e8062286-9483-4d16-c4c8-827c817c3a04"
      },
      "execution_count": 31,
      "outputs": [
        {
          "output_type": "execute_result",
          "data": {
            "text/plain": [
              "array([54396.27389874])"
            ]
          },
          "metadata": {},
          "execution_count": 31
        }
      ]
    },
    {
      "cell_type": "code",
      "source": [
        "import joblib \n",
        "joblib.dump(model,'Store_Sales')"
      ],
      "metadata": {
        "colab": {
          "base_uri": "https://localhost:8080/"
        },
        "id": "YJw-1ieuA9GJ",
        "outputId": "95836274-4da2-483d-cfeb-830df801a524"
      },
      "execution_count": 32,
      "outputs": [
        {
          "output_type": "execute_result",
          "data": {
            "text/plain": [
              "['Store_Sales']"
            ]
          },
          "metadata": {},
          "execution_count": 32
        }
      ]
    },
    {
      "cell_type": "code",
      "source": [
        "joblib.load('Store_Sales')"
      ],
      "metadata": {
        "colab": {
          "base_uri": "https://localhost:8080/"
        },
        "id": "g6KoVgZcB4Aj",
        "outputId": "8b54ffcc-cec6-4fb9-e356-ebdf3f9d87d5"
      },
      "execution_count": 33,
      "outputs": [
        {
          "output_type": "execute_result",
          "data": {
            "text/plain": [
              "LinearRegression()"
            ]
          },
          "metadata": {},
          "execution_count": 33
        }
      ]
    },
    {
      "cell_type": "code",
      "source": [
        ""
      ],
      "metadata": {
        "id": "9e_Mbx6sB7gW"
      },
      "execution_count": null,
      "outputs": []
    }
  ]
}