{
  "nbformat": 4,
  "nbformat_minor": 0,
  "metadata": {
    "colab": {
      "name": "RINEX_MajorProject1.ipynb",
      "provenance": [],
      "authorship_tag": "ABX9TyM98gnd/0NePdV2Gn3sP/XP",
      "include_colab_link": true
    },
    "kernelspec": {
      "name": "python3",
      "display_name": "Python 3"
    },
    "language_info": {
      "name": "python"
    }
  },
  "cells": [
    {
      "cell_type": "markdown",
      "metadata": {
        "id": "view-in-github",
        "colab_type": "text"
      },
      "source": [
        "<a href=\"https://colab.research.google.com/github/trymeuj/RINEX_MajorProject1/blob/main/RINEX_MajorProject1.ipynb\" target=\"_parent\"><img src=\"https://colab.research.google.com/assets/colab-badge.svg\" alt=\"Open In Colab\"/></a>"
      ]
    },
    {
      "cell_type": "code",
      "execution_count": 2,
      "metadata": {
        "id": "FPW9W2tb4Svl"
      },
      "outputs": [],
      "source": [
        "#   this is a ml model\n",
        "# rinex major project 1\n"
      ]
    },
    {
      "cell_type": "code",
      "source": [
        "import pandas as pd\n",
        "uj = pd.read_csv('https://raw.githubusercontent.com/trymeuj/datasets/main/Stores.csv')    # creating our dataframe from the dataset uploaded to my github account\n",
        "uj"
      ],
      "metadata": {
        "colab": {
          "base_uri": "https://localhost:8080/",
          "height": 424
        },
        "id": "9iKCYEjm4dSF",
        "outputId": "8051bedc-8c25-459d-d818-f6b609bd40fa"
      },
      "execution_count": 1,
      "outputs": [
        {
          "output_type": "execute_result",
          "data": {
            "text/plain": [
              "     Store ID   Store_Area  Items_Available  Daily_Customer_Count  Store_Sales\n",
              "0            1        1659             1961                   530        66490\n",
              "1            2        1461             1752                   210        39820\n",
              "2            3        1340             1609                   720        54010\n",
              "3            4        1451             1748                   620        53730\n",
              "4            5        1770             2111                   450        46620\n",
              "..         ...         ...              ...                   ...          ...\n",
              "891        892        1582             1910                  1080        66390\n",
              "892        893        1387             1663                   850        82080\n",
              "893        894        1200             1436                  1060        76440\n",
              "894        895        1299             1560                   770        96610\n",
              "895        896        1174             1429                  1110        54340\n",
              "\n",
              "[896 rows x 5 columns]"
            ],
            "text/html": [
              "\n",
              "  <div id=\"df-ad6b1d8a-fcf9-4f52-9673-f4fd5906281b\">\n",
              "    <div class=\"colab-df-container\">\n",
              "      <div>\n",
              "<style scoped>\n",
              "    .dataframe tbody tr th:only-of-type {\n",
              "        vertical-align: middle;\n",
              "    }\n",
              "\n",
              "    .dataframe tbody tr th {\n",
              "        vertical-align: top;\n",
              "    }\n",
              "\n",
              "    .dataframe thead th {\n",
              "        text-align: right;\n",
              "    }\n",
              "</style>\n",
              "<table border=\"1\" class=\"dataframe\">\n",
              "  <thead>\n",
              "    <tr style=\"text-align: right;\">\n",
              "      <th></th>\n",
              "      <th>Store ID</th>\n",
              "      <th>Store_Area</th>\n",
              "      <th>Items_Available</th>\n",
              "      <th>Daily_Customer_Count</th>\n",
              "      <th>Store_Sales</th>\n",
              "    </tr>\n",
              "  </thead>\n",
              "  <tbody>\n",
              "    <tr>\n",
              "      <th>0</th>\n",
              "      <td>1</td>\n",
              "      <td>1659</td>\n",
              "      <td>1961</td>\n",
              "      <td>530</td>\n",
              "      <td>66490</td>\n",
              "    </tr>\n",
              "    <tr>\n",
              "      <th>1</th>\n",
              "      <td>2</td>\n",
              "      <td>1461</td>\n",
              "      <td>1752</td>\n",
              "      <td>210</td>\n",
              "      <td>39820</td>\n",
              "    </tr>\n",
              "    <tr>\n",
              "      <th>2</th>\n",
              "      <td>3</td>\n",
              "      <td>1340</td>\n",
              "      <td>1609</td>\n",
              "      <td>720</td>\n",
              "      <td>54010</td>\n",
              "    </tr>\n",
              "    <tr>\n",
              "      <th>3</th>\n",
              "      <td>4</td>\n",
              "      <td>1451</td>\n",
              "      <td>1748</td>\n",
              "      <td>620</td>\n",
              "      <td>53730</td>\n",
              "    </tr>\n",
              "    <tr>\n",
              "      <th>4</th>\n",
              "      <td>5</td>\n",
              "      <td>1770</td>\n",
              "      <td>2111</td>\n",
              "      <td>450</td>\n",
              "      <td>46620</td>\n",
              "    </tr>\n",
              "    <tr>\n",
              "      <th>...</th>\n",
              "      <td>...</td>\n",
              "      <td>...</td>\n",
              "      <td>...</td>\n",
              "      <td>...</td>\n",
              "      <td>...</td>\n",
              "    </tr>\n",
              "    <tr>\n",
              "      <th>891</th>\n",
              "      <td>892</td>\n",
              "      <td>1582</td>\n",
              "      <td>1910</td>\n",
              "      <td>1080</td>\n",
              "      <td>66390</td>\n",
              "    </tr>\n",
              "    <tr>\n",
              "      <th>892</th>\n",
              "      <td>893</td>\n",
              "      <td>1387</td>\n",
              "      <td>1663</td>\n",
              "      <td>850</td>\n",
              "      <td>82080</td>\n",
              "    </tr>\n",
              "    <tr>\n",
              "      <th>893</th>\n",
              "      <td>894</td>\n",
              "      <td>1200</td>\n",
              "      <td>1436</td>\n",
              "      <td>1060</td>\n",
              "      <td>76440</td>\n",
              "    </tr>\n",
              "    <tr>\n",
              "      <th>894</th>\n",
              "      <td>895</td>\n",
              "      <td>1299</td>\n",
              "      <td>1560</td>\n",
              "      <td>770</td>\n",
              "      <td>96610</td>\n",
              "    </tr>\n",
              "    <tr>\n",
              "      <th>895</th>\n",
              "      <td>896</td>\n",
              "      <td>1174</td>\n",
              "      <td>1429</td>\n",
              "      <td>1110</td>\n",
              "      <td>54340</td>\n",
              "    </tr>\n",
              "  </tbody>\n",
              "</table>\n",
              "<p>896 rows × 5 columns</p>\n",
              "</div>\n",
              "      <button class=\"colab-df-convert\" onclick=\"convertToInteractive('df-ad6b1d8a-fcf9-4f52-9673-f4fd5906281b')\"\n",
              "              title=\"Convert this dataframe to an interactive table.\"\n",
              "              style=\"display:none;\">\n",
              "        \n",
              "  <svg xmlns=\"http://www.w3.org/2000/svg\" height=\"24px\"viewBox=\"0 0 24 24\"\n",
              "       width=\"24px\">\n",
              "    <path d=\"M0 0h24v24H0V0z\" fill=\"none\"/>\n",
              "    <path d=\"M18.56 5.44l.94 2.06.94-2.06 2.06-.94-2.06-.94-.94-2.06-.94 2.06-2.06.94zm-11 1L8.5 8.5l.94-2.06 2.06-.94-2.06-.94L8.5 2.5l-.94 2.06-2.06.94zm10 10l.94 2.06.94-2.06 2.06-.94-2.06-.94-.94-2.06-.94 2.06-2.06.94z\"/><path d=\"M17.41 7.96l-1.37-1.37c-.4-.4-.92-.59-1.43-.59-.52 0-1.04.2-1.43.59L10.3 9.45l-7.72 7.72c-.78.78-.78 2.05 0 2.83L4 21.41c.39.39.9.59 1.41.59.51 0 1.02-.2 1.41-.59l7.78-7.78 2.81-2.81c.8-.78.8-2.07 0-2.86zM5.41 20L4 18.59l7.72-7.72 1.47 1.35L5.41 20z\"/>\n",
              "  </svg>\n",
              "      </button>\n",
              "      \n",
              "  <style>\n",
              "    .colab-df-container {\n",
              "      display:flex;\n",
              "      flex-wrap:wrap;\n",
              "      gap: 12px;\n",
              "    }\n",
              "\n",
              "    .colab-df-convert {\n",
              "      background-color: #E8F0FE;\n",
              "      border: none;\n",
              "      border-radius: 50%;\n",
              "      cursor: pointer;\n",
              "      display: none;\n",
              "      fill: #1967D2;\n",
              "      height: 32px;\n",
              "      padding: 0 0 0 0;\n",
              "      width: 32px;\n",
              "    }\n",
              "\n",
              "    .colab-df-convert:hover {\n",
              "      background-color: #E2EBFA;\n",
              "      box-shadow: 0px 1px 2px rgba(60, 64, 67, 0.3), 0px 1px 3px 1px rgba(60, 64, 67, 0.15);\n",
              "      fill: #174EA6;\n",
              "    }\n",
              "\n",
              "    [theme=dark] .colab-df-convert {\n",
              "      background-color: #3B4455;\n",
              "      fill: #D2E3FC;\n",
              "    }\n",
              "\n",
              "    [theme=dark] .colab-df-convert:hover {\n",
              "      background-color: #434B5C;\n",
              "      box-shadow: 0px 1px 3px 1px rgba(0, 0, 0, 0.15);\n",
              "      filter: drop-shadow(0px 1px 2px rgba(0, 0, 0, 0.3));\n",
              "      fill: #FFFFFF;\n",
              "    }\n",
              "  </style>\n",
              "\n",
              "      <script>\n",
              "        const buttonEl =\n",
              "          document.querySelector('#df-ad6b1d8a-fcf9-4f52-9673-f4fd5906281b button.colab-df-convert');\n",
              "        buttonEl.style.display =\n",
              "          google.colab.kernel.accessAllowed ? 'block' : 'none';\n",
              "\n",
              "        async function convertToInteractive(key) {\n",
              "          const element = document.querySelector('#df-ad6b1d8a-fcf9-4f52-9673-f4fd5906281b');\n",
              "          const dataTable =\n",
              "            await google.colab.kernel.invokeFunction('convertToInteractive',\n",
              "                                                     [key], {});\n",
              "          if (!dataTable) return;\n",
              "\n",
              "          const docLinkHtml = 'Like what you see? Visit the ' +\n",
              "            '<a target=\"_blank\" href=https://colab.research.google.com/notebooks/data_table.ipynb>data table notebook</a>'\n",
              "            + ' to learn more about interactive tables.';\n",
              "          element.innerHTML = '';\n",
              "          dataTable['output_type'] = 'display_data';\n",
              "          await google.colab.output.renderOutput(dataTable, element);\n",
              "          const docLink = document.createElement('div');\n",
              "          docLink.innerHTML = docLinkHtml;\n",
              "          element.appendChild(docLink);\n",
              "        }\n",
              "      </script>\n",
              "    </div>\n",
              "  </div>\n",
              "  "
            ]
          },
          "metadata": {},
          "execution_count": 1
        }
      ]
    },
    {
      "cell_type": "code",
      "source": [
        "import seaborn as sns\n",
        "sns.distplot(uj['Store_Sales'])"
      ],
      "metadata": {
        "colab": {
          "base_uri": "https://localhost:8080/",
          "height": 363
        },
        "id": "gBU0Yp6PBTZ-",
        "outputId": "6773c400-9b76-4fb7-a6d7-ee600d15ca8b"
      },
      "execution_count": 3,
      "outputs": [
        {
          "output_type": "stream",
          "name": "stderr",
          "text": [
            "/usr/local/lib/python3.7/dist-packages/seaborn/distributions.py:2619: FutureWarning: `distplot` is a deprecated function and will be removed in a future version. Please adapt your code to use either `displot` (a figure-level function with similar flexibility) or `histplot` (an axes-level function for histograms).\n",
            "  warnings.warn(msg, FutureWarning)\n"
          ]
        },
        {
          "output_type": "execute_result",
          "data": {
            "text/plain": [
              "<matplotlib.axes._subplots.AxesSubplot at 0x7f8632c37d50>"
            ]
          },
          "metadata": {},
          "execution_count": 3
        },
        {
          "output_type": "display_data",
          "data": {
            "text/plain": [
              "<Figure size 432x288 with 1 Axes>"
            ],
            "image/png": "[encoded data removed]"
          },
          "metadata": {
            "needs_background": "light"
          }
        }
      ]
    },
    {
      "cell_type": "code",
      "source": [
        "uj.info()"
      ],
      "metadata": {
        "colab": {
          "base_uri": "https://localhost:8080/"
        },
        "id": "VJ9fUQnO4vQZ",
        "outputId": "48d4671a-f955-4f4a-8c77-c6d9a517d47c"
      },
      "execution_count": 4,
      "outputs": [
        {
          "output_type": "stream",
          "name": "stdout",
          "text": [
            "<class 'pandas.core.frame.DataFrame'>\n",
            "RangeIndex: 896 entries, 0 to 895\n",
            "Data columns (total 5 columns):\n",
            " #   Column                Non-Null Count  Dtype\n",
            "---  ------                --------------  -----\n",
            " 0   Store ID              896 non-null    int64\n",
            " 1   Store_Area            896 non-null    int64\n",
            " 2   Items_Available       896 non-null    int64\n",
            " 3   Daily_Customer_Count  896 non-null    int64\n",
            " 4   Store_Sales           896 non-null    int64\n",
            "dtypes: int64(5)\n",
            "memory usage: 35.1 KB\n"
          ]
        }
      ]
    },
    {
      "cell_type": "code",
      "source": [
        "# here is our input ,x\n",
        "x = uj.iloc[:,1:4].values\n",
        "x"
      ],
      "metadata": {
        "colab": {
          "base_uri": "https://localhost:8080/"
        },
        "id": "WxOgg_dB4yH1",
        "outputId": "af5a3fed-918a-4fde-c2ed-1450e7a08072"
      },
      "execution_count": 5,
      "outputs": [
        {
          "output_type": "execute_result",
          "data": {
            "text/plain": [
              "array([[1659, 1961,  530],\n",
              "       [1461, 1752,  210],\n",
              "       [1340, 1609,  720],\n",
              "       ...,\n",
              "       [1200, 1436, 1060],\n",
              "       [1299, 1560,  770],\n",
              "       [1174, 1429, 1110]])"
            ]
          },
          "metadata": {},
          "execution_count": 5
        }
      ]
    },
    {
      "cell_type": "code",
      "source": [
        "# here is our output,y\n",
        "y = uj.iloc[:,4].values\n",
        "y\n"
      ],
      "metadata": {
        "colab": {
          "base_uri": "https://localhost:8080/"
        },
        "id": "phhg-t9F45am",
        "outputId": "cccb6be7-4ea8-493e-a608-c3f2bd9e1221"
      },
      "execution_count": 6,
      "outputs": [
        {
          "output_type": "execute_result",
          "data": {
            "text/plain": [
              "array([ 66490,  39820,  54010,  53730,  46620,  45260,  72240,  37720,\n",
              "        46310,  44150,  71280,  57620,  60470,  59130,  66360,  78870,\n",
              "        77250,  38170,  63540,  40190,  43460,  68890,  52780,  50680,\n",
              "        41880,  70050,  25820,  60530,  78100,  84860,  80140,  14920,\n",
              "        60460,  74560,  72430,  45460,  41570,  62870,  55170,  45480,\n",
              "        49550,  48140,  67640,  39730,  35800,  49270,  66510,  62530,\n",
              "        59980,  76350,  81820,  57830,  70450,  67000,  64090,  48670,\n",
              "        66210,  83660,  70770,  53870,  71300,  46100,  49100,  65920,\n",
              "        58660,  69130,  49080,  72710,  33430,  42430,  56650,  33580,\n",
              "        67370,  71780,  84840,  82070,  26770,  65560,  38660,  65660,\n",
              "        40700,  88910,  57860,  42670,  90180,  51280,  97260,  39650,\n",
              "        45720,  42060,  65350,  67080,  54030,  56360,  77120,  50810,\n",
              "        60960,  61180,  63660,  41190,  78420,  65580,  89080,  94170,\n",
              "        50950,  65180,  69310,  79210,  23740,  36330,  51700,  62950,\n",
              "        56010,  45080,  46830,  64750,  80780,  31180,  56710,  49390,\n",
              "        66000,  32770,  46580,  79780,  35510,  80970,  61150,  49210,\n",
              "        79950,  68740,  57480,  72630,  50070,  40490,  51850,  42840,\n",
              "        60940,  62280,  76530,  85130,  48590,  73080,  48950,  48560,\n",
              "        59380,  51190,  58920,  50360,  38070,  49170,  39740,  63730,\n",
              "        85330,  27410,  37320,  71120,  72800,  34410,  42530,  54300,\n",
              "        50780,  45020,  69600,  80340,  37810,  46140,  99570,  38650,\n",
              "        49800,  69910,  44910,  78470,  47460,  33460,  44090,  42620,\n",
              "        69450,  73120,  48300,  58090,  74250,  40930,  70930,  64670,\n",
              "        77420,  32330,  41080,  42860,  68450,  39730,  83750,  69940,\n",
              "        67710,  67360,  52460,  88760,  67030,  78230,  62270,  49760,\n",
              "        73660,  72320,  68890,  34180,  58260,  38120,  49070,  61660,\n",
              "        37830,  52270,  52280,  70810,  71530,  77260,  75550,  33730,\n",
              "        66270,  55820,  68430,  73990,  62800,  33740,  63830,  24410,\n",
              "        70020,  92240,  68230,  81870,  73860,  77120,  72350,  49160,\n",
              "        45650,  52780,  90960,  64950,  47230,  83250,  51950,  66030,\n",
              "        68590,  47140,  69940,  65890,  89310,  58540,  78130,  92300,\n",
              "        56170,  46050,  43390,  61750,  21830,  39800,  54370,  62470,\n",
              "        82930,  63720,  79180,  38210,  25950,  56610,  73710,  70400,\n",
              "        50440,  66840,  50170,  60140,  37130,  42890,  26220,  50840,\n",
              "        25630,  60770,  69600,  41740,  50130,  21750,  80490,  34020,\n",
              "        60240,  39460,  56440,  46840,  64820,  52520,  45940,  38970,\n",
              "        58610,  30810,  47730,  64640,  44860,  55660,  57530,  75200,\n",
              "        37330,  35280,  70610,  49720,  68850,  50740,  77070,  74730,\n",
              "        76530,  68900,  44960,  41490,  74320,  73800,  56400,  71570,\n",
              "        43640,  35120,  58670,  75800,  76640,  31890,  61670,  75950,\n",
              "        41490,  66170,  37980,  62710,  60470,  35230,  48550,  56810,\n",
              "        41080,  51270,  57500,  81470,  49570,  45580,  44660,  76240,\n",
              "        43720,  46700,  84690,  85470,  80410,  46650,  81840,  63590,\n",
              "        50130,  45820,  86710,  49980,  82940,  40350,  93950,  47310,\n",
              "        21300,  62180,  61460,  54360,  72050,  48090,  27310,  57160,\n",
              "        34190,  35600,  54670,  76730,  63540,  36690,  87370,  59800,\n",
              "        48030,  96650,  65500,  55530,  21650,  31940,  84690,  68390,\n",
              "        75490,  39200,  85670,  60530,  78090,  50720,  23090,  91360,\n",
              "        48120,  75620,  39420,  51130,  33890,  87170,  38600,  60980,\n",
              "        79410,  82350,  36740,  27720,  32260,  53270,  51480,  59970,\n",
              "        83600,  63020,  50920,  56450,  89540,  46030,  75110,  74520,\n",
              "       102310,  53400,  59760,  49540,  51560,  49510,  58610,  68260,\n",
              "        65310,  52090,  43860,  74170,  58380,  91200,  90940,  49330,\n",
              "        53500,  54590,  57450,  33240,  80790,  61000,  47620,  72090,\n",
              "       102920,  61970,  61040,  52060,  69570,  66020,  40000,  79500,\n",
              "        76300,  69030,  57140,  41710,  71480,  33010,  74570,  49590,\n",
              "        73170,  79220,  75880,  67610,  69090,  35220,  53940,  56660,\n",
              "        67520,  38620,  38890,  79270,  42880,  44240,  43190,  74550,\n",
              "        57090,  56480,  87410,  81370,  97360,  77960,  71240,  58940,\n",
              "        78950,  36380,  45160,  69050,  56830,  93530,  46920,  55990,\n",
              "        40840,  64990,  53550,  51320,  36560,  66050,  52400,  27970,\n",
              "        67100,  43710,  38600,  53890,  52610,  43130,  40300,  49750,\n",
              "        43840,  56820,  36350,  50820,  83720,  46970,  78020,  45080,\n",
              "        55160,  72020,  64010,  27840,  58070,  51760,  66050,  65750,\n",
              "        65820,  46760,  50940,  56440,  32610,  62770,  63600,  45840,\n",
              "        38280,  50960,  39480,  69610,  47800,  44890,  67420,  78870,\n",
              "        70310,  38530,  77570,  59920,  54450,  50250,  30790,  35420,\n",
              "        43470,  61000,  64780,  39030,  65900,  46050,  59070,  44670,\n",
              "        58390,  80370,  53230,  72000,  84040,  52540,  63510,  42240,\n",
              "        39580,  54610,  87330,  88410,  89760, 101780,  70290,  88210,\n",
              "        87160,  41540,  49170,  63950,  70810,  49590,  67290,  51240,\n",
              "        48540,  72410,  54370,  94460,  85160,  52130,  54650,  69320,\n",
              "        51480,  50060,  62180,  79780,  42860,  54410,  69390,  42810,\n",
              "        30840,  56260,  76470,  35680,  90070,  33120,  54060,  75120,\n",
              "        41600,  20270,  60060,  82270,  29170,  68420,  59130,  74330,\n",
              "        77080,  76250,  59540,  54690,  84360,  51420,  65120,  49380,\n",
              "        37830,  35980,  69190,  50590,  60800,  31180,  77790,  47570,\n",
              "        69130,  75970,  68350,  41680,  86560,  81390,  50730,  71290,\n",
              "        70110,  61590,  69370,  67110,  82020,  62050,  61730,  58660,\n",
              "        53370,  39700,  53750,  44730,  49350,  43340,  78090,  54950,\n",
              "        75530,  57330,  87930,  56850,  78430,  63660,  62960,  81870,\n",
              "        54820, 116320,  57200,  84360,  36530,  81260,  82350,  80830,\n",
              "        30610,  51310,  72940,  52450,  66070,  43190,  40730,  78530,\n",
              "        94690,  44400,  73800,  37390,  64120,  66160,  22310,  62380,\n",
              "        63850,  36210,  54590,  69610,  65390,  78130,  55710,  69210,\n",
              "        59940,  72550,  44260,  56910,  82390,  54590,  69990,  72740,\n",
              "        35360,  94370,  43520,  36000,  99480,  83220,  52940,  93360,\n",
              "        73590,  53840,  47350,  65080,  62050,  30020,  49510,  64320,\n",
              "        35590,  63050,  65300,  69560,  41910,  28330,  55980,  61080,\n",
              "        51380,  84410,  60680,  64690,  45780,  41800,  53230,  36160,\n",
              "        40450,  57910,  36280,  39190,  62380,  21470,  34610,  88120,\n",
              "        59190,  36290,  53760,  66300,  93000,  65660,  81930,  60060,\n",
              "        59530,  46380,  76200,  56860,  86620,  49730,  88370,  49160,\n",
              "        77740,  38560,  51990,  39970,  46040,  49500,  76670,  75800,\n",
              "        81720,  58440,  85720,  70940,  62420,  56880, 101820,  86890,\n",
              "        47300,  31270,  65410,  54200,  67390,  54530,  79760,  78060,\n",
              "        74080,  52990,  70580,  34310,  74160,  59190,  43370,  17670,\n",
              "        56710,  59820,  36190,  60440,  75300,  74080,  60440,  80720,\n",
              "        47060,  86830,  56790,  67090,  44370,  82970,  56230,  53760,\n",
              "        55390,  73500,  41050,  67320,  65890,  56380,  85670,  70830,\n",
              "        48180,  51910,  44320,  58940,  73610,  54060,  85000,  49030,\n",
              "        63300,  84300,  81390,  95900,  71830,  79310,  87890,  48610,\n",
              "        73160,  36280,  49720,  44400,  47590,  51460,  57750,  66000,\n",
              "        45950,  53900,  37920,  63100,  36770,  43910,  66390,  59160,\n",
              "        38510,  46220,  41500,  58160,  38530,  55880,  70940,  53940,\n",
              "        43030,  59820,  55500,  49990,  42980,  65970,  59290,  63020,\n",
              "        73810,  70230,  59950,  78100,  16370,  92640,  63540,  87220,\n",
              "        41990,  79410,  54380,  58600,  48950,  40670,  52340,  39140,\n",
              "        41090,  25600, 100900,  77080, 105150,  80580,  46230,  98260,\n",
              "        75930,  52050,  87000,  60270,  88270,  57820,  61210,  76420,\n",
              "        70980,  76740,  47920,  52160,  32740,  72270,  77430,  92370,\n",
              "        34880,  46580,  70620,  66390,  82080,  76440,  96610,  54340])"
            ]
          },
          "metadata": {},
          "execution_count": 6
        }
      ]
    },
    {
      "cell_type": "code",
      "source": [
        "# so we have our i/p and o/p data, we now split them into training and testing data(75:25)\n",
        "from sklearn.model_selection import train_test_split\n",
        "x_train,x_test,y_train,y_test = train_test_split(x,y,random_state = 0)\n"
      ],
      "metadata": {
        "id": "AG-k29gc5VvY"
      },
      "execution_count": 7,
      "outputs": []
    },
    {
      "cell_type": "code",
      "source": [
        "x_train"
      ],
      "metadata": {
        "colab": {
          "base_uri": "https://localhost:8080/"
        },
        "id": "T6yPTjyt5rE0",
        "outputId": "0e9a3888-c61b-4c0f-e63b-8fd29688c95f"
      },
      "execution_count": 8,
      "outputs": [
        {
          "output_type": "execute_result",
          "data": {
            "text/plain": [
              "array([[1653, 1982,  390],\n",
              "       [1583, 1907,  680],\n",
              "       [1334, 1584,  840],\n",
              "       ...,\n",
              "       [1887, 2264,  830],\n",
              "       [1237, 1512, 1070],\n",
              "       [1540, 1820,  310]])"
            ]
          },
          "metadata": {},
          "execution_count": 8
        }
      ]
    },
    {
      "cell_type": "code",
      "source": [
        "x_test"
      ],
      "metadata": {
        "colab": {
          "base_uri": "https://localhost:8080/"
        },
        "id": "dshB_PGO8MuW",
        "outputId": "824db198-c3d3-4667-9dcb-f2bb2142a7f1"
      },
      "execution_count": 9,
      "outputs": [
        {
          "output_type": "execute_result",
          "data": {
            "text/plain": [
              "array([[1462, 1762, 1010],\n",
              "       [1704, 2045,  300],\n",
              "       [1659, 1999,  650],\n",
              "       [1250, 1508,  990],\n",
              "       [1784, 2142,  950],\n",
              "       [1850, 2214, 1110],\n",
              "       [1556, 1846,  760],\n",
              "       [1638, 1937, 1050],\n",
              "       [1535, 1819,  540],\n",
              "       [1834, 2184,  830],\n",
              "       [1619, 1957, 1280],\n",
              "       [1440, 1719,  580],\n",
              "       [1321, 1579,  770],\n",
              "       [1369, 1629,  770],\n",
              "       [1247, 1490,  330],\n",
              "       [1374, 1655, 1080],\n",
              "       [1332, 1586,  630],\n",
              "       [1450, 1728,  930],\n",
              "       [1092, 1314,  600],\n",
              "       [1000, 1215, 1070],\n",
              "       [1469, 1756,  770],\n",
              "       [1797, 2126,  730],\n",
              "       [1455, 1764,  390],\n",
              "       [1199, 1433, 1020],\n",
              "       [1236, 1484,  560],\n",
              "       [1468, 1744,  590],\n",
              "       [1316, 1597,  980],\n",
              "       [1471, 1768,  780],\n",
              "       [1214, 1455,  950],\n",
              "       [1165, 1390, 1220],\n",
              "       [1766, 2109, 1120],\n",
              "       [1772, 2146, 1030],\n",
              "       [1631, 1947,  670],\n",
              "       [1422, 1722,  560],\n",
              "       [1809, 2145,  940],\n",
              "       [1313, 1574,  920],\n",
              "       [1450, 1750,  480],\n",
              "       [1738, 2065,  750],\n",
              "       [1329, 1609, 1150],\n",
              "       [1502, 1815,  190],\n",
              "       [1455, 1757,  650],\n",
              "       [ 933, 1121,  940],\n",
              "       [1622, 1968,  210],\n",
              "       [1323, 1571,  850],\n",
              "       [1417, 1701,  740],\n",
              "       [1389, 1683,  680],\n",
              "       [1496, 1800,  780],\n",
              "       [1816, 2171, 1160],\n",
              "       [ 780,  951,  790],\n",
              "       [1873, 2252,  330],\n",
              "       [1395, 1662,  920],\n",
              "       [1614, 1938, 1110],\n",
              "       [1707, 2052,  920],\n",
              "       [ 919, 1099, 1560],\n",
              "       [1524, 1819, 1190],\n",
              "       [1609, 1943,  920],\n",
              "       [1214, 1456,  530],\n",
              "       [1397, 1686,  850],\n",
              "       [1124, 1369,  650],\n",
              "       [1439, 1735,  400],\n",
              "       [1751, 2115,  790],\n",
              "       [1429, 1695,  890],\n",
              "       [1250, 1475, 1390],\n",
              "       [1842, 2204,  930],\n",
              "       [1891, 2280,  360],\n",
              "       [1862, 2248, 1160],\n",
              "       [1552, 1869,  710],\n",
              "       [1881, 2244,  920],\n",
              "       [1189, 1439,  780],\n",
              "       [1503, 1791,  630],\n",
              "       [1090, 1321,  680],\n",
              "       [1748, 2086,  550],\n",
              "       [1604, 1909,  370],\n",
              "       [1597, 1918, 1260],\n",
              "       [1184, 1434,  670],\n",
              "       [1688, 2042,  760],\n",
              "       [1415, 1697, 1200],\n",
              "       [1812, 2189,  310],\n",
              "       [1836, 2195,  940],\n",
              "       [1241, 1488,  770],\n",
              "       [1375, 1648, 1020],\n",
              "       [1496, 1791, 1240],\n",
              "       [1688, 2037,  590],\n",
              "       [1637, 1958,  760],\n",
              "       [1291, 1546,  420],\n",
              "       [1390, 1648,  980],\n",
              "       [1121, 1345,  320],\n",
              "       [1439, 1746,  990],\n",
              "       [1153, 1381,  730],\n",
              "       [1777, 2117,  780],\n",
              "       [1497, 1815,  700],\n",
              "       [1934, 2349,  750],\n",
              "       [ 913, 1106,  860],\n",
              "       [1357, 1625, 1140],\n",
              "       [ 896, 1059,  870],\n",
              "       [1975, 2368,  450],\n",
              "       [2019, 2396,  540],\n",
              "       [1745, 2108,  730],\n",
              "       [1514, 1794, 1400],\n",
              "       [1485, 1785, 1340],\n",
              "       [1072, 1296,  900],\n",
              "       [1436, 1715, 1030],\n",
              "       [1498, 1770,  620],\n",
              "       [1641, 1999,  950],\n",
              "       [1434, 1729,  480],\n",
              "       [1057, 1262, 1490],\n",
              "       [1919, 2294,  760],\n",
              "       [2001, 2394,  540],\n",
              "       [1693, 2032,  610],\n",
              "       [1591, 1919,  640],\n",
              "       [1121, 1332,  790],\n",
              "       [1509, 1799,  960],\n",
              "       [1837, 2220,  340],\n",
              "       [1520, 1817,  850],\n",
              "       [ 775,  932, 1090],\n",
              "       [1550, 1845,  700],\n",
              "       [1540, 1857, 1020],\n",
              "       [1317, 1581,  910],\n",
              "       [1534, 1841,  680],\n",
              "       [1116, 1347,  700],\n",
              "       [1307, 1570, 1080],\n",
              "       [1118, 1337,  560],\n",
              "       [1208, 1459,  930],\n",
              "       [1417, 1689,  570],\n",
              "       [1354, 1635, 1270],\n",
              "       [1848, 2254, 1000],\n",
              "       [1397, 1661, 1410],\n",
              "       [1798, 2134,  820],\n",
              "       [1442, 1733,  760],\n",
              "       [1379, 1636,  440],\n",
              "       [1440, 1711, 1020],\n",
              "       [1327, 1590,  770],\n",
              "       [1971, 2342,  690],\n",
              "       [1588, 1906,  450],\n",
              "       [1571, 1877,  580],\n",
              "       [1314, 1576,  360],\n",
              "       [1788, 2133, 1000],\n",
              "       [1525, 1839,  540],\n",
              "       [1275, 1548,  370],\n",
              "       [1607, 1927,  940],\n",
              "       [ 869, 1050,  850],\n",
              "       [1174, 1411, 1080],\n",
              "       [1411, 1680, 1070],\n",
              "       [1435, 1725, 1250],\n",
              "       [1641, 1976,  620],\n",
              "       [1015, 1229,  930],\n",
              "       [1356, 1619,  700],\n",
              "       [1638, 1952,  690],\n",
              "       [1622, 1968,  340],\n",
              "       [1425, 1733,  760],\n",
              "       [1152, 1393,  860],\n",
              "       [1160, 1401,  900],\n",
              "       [1148, 1384,  730],\n",
              "       [1778, 2133,  280],\n",
              "       [1584, 1897, 1210],\n",
              "       [1523, 1813,  520],\n",
              "       [1347, 1628,  120],\n",
              "       [1472, 1748,  600],\n",
              "       [1462, 1761,  600],\n",
              "       [1608, 1945,  760],\n",
              "       [1463, 1751,  900],\n",
              "       [1174, 1396, 1100],\n",
              "       [1546, 1845,  760],\n",
              "       [1484, 1774,  940],\n",
              "       [1390, 1646,  800],\n",
              "       [1701, 2030,  830],\n",
              "       [1454, 1737,  870],\n",
              "       [1211, 1447, 1110],\n",
              "       [1387, 1663,  850],\n",
              "       [1199, 1461, 1070],\n",
              "       [1468, 1760,  280],\n",
              "       [1303, 1587, 1310],\n",
              "       [1635, 1956,  720],\n",
              "       [1691, 2026,  700],\n",
              "       [1187, 1417, 1230],\n",
              "       [1933, 2338, 1140],\n",
              "       [1550, 1871,  590],\n",
              "       [1554, 1852,  440],\n",
              "       [1174, 1429, 1110],\n",
              "       [1461, 1752,  210],\n",
              "       [1791, 2167,  700],\n",
              "       [1336, 1616,  710],\n",
              "       [1642, 1981,  720],\n",
              "       [1305, 1557,  580],\n",
              "       [1439, 1724,  900],\n",
              "       [1655, 1956,  800],\n",
              "       [1475, 1775,  230],\n",
              "       [1978, 2374,  800],\n",
              "       [1150, 1378,  730],\n",
              "       [1153, 1397, 1020],\n",
              "       [1473, 1785,  570],\n",
              "       [1513, 1825,  980],\n",
              "       [1777, 2145,  520],\n",
              "       [1501, 1822,  590],\n",
              "       [1296, 1559, 1070],\n",
              "       [1251, 1527,  380],\n",
              "       [1414, 1723,  680],\n",
              "       [1517, 1831,  610],\n",
              "       [1211, 1472,  790],\n",
              "       [1857, 2236, 1280],\n",
              "       [1015, 1216,  460],\n",
              "       [1688, 2046,  380],\n",
              "       [1574, 1876,  620],\n",
              "       [1320, 1562,  610],\n",
              "       [1297, 1529,  870],\n",
              "       [1570, 1898,  980],\n",
              "       [1227, 1471,  870],\n",
              "       [1007, 1207,  670],\n",
              "       [1165, 1411, 1020],\n",
              "       [1319, 1571, 1190],\n",
              "       [1458, 1725,  750],\n",
              "       [1428, 1719, 1060],\n",
              "       [1249, 1510,  660],\n",
              "       [1270, 1516,   10],\n",
              "       [1954, 2378,  810],\n",
              "       [1375, 1659, 1080],\n",
              "       [1438, 1731, 1030],\n",
              "       [1566, 1889,  610],\n",
              "       [1613, 1921, 1200],\n",
              "       [1588, 1892,  540],\n",
              "       [1309, 1572,  510],\n",
              "       [1533, 1817,  950],\n",
              "       [1514, 1820,  910],\n",
              "       [1461, 1739, 1250]])"
            ]
          },
          "metadata": {},
          "execution_count": 9
        }
      ]
    },
    {
      "cell_type": "code",
      "source": [
        "from sklearn.preprocessing import MinMaxScaler\n",
        "scaling = MinMaxScaler()\n",
        "scaling"
      ],
      "metadata": {
        "colab": {
          "base_uri": "https://localhost:8080/"
        },
        "id": "qUhIjvzZ95FQ",
        "outputId": "18cfea8d-931a-4bff-c068-15c02268ac97"
      },
      "execution_count": 10,
      "outputs": [
        {
          "output_type": "execute_result",
          "data": {
            "text/plain": [
              "MinMaxScaler()"
            ]
          },
          "metadata": {},
          "execution_count": 10
        }
      ]
    },
    {
      "cell_type": "code",
      "source": [
        "    # NORMALISATION\n",
        "    # we don't need normalisation here because our various input data values  are of the same order.\n"
      ],
      "metadata": {
        "id": "B1bY1SQS-lan"
      },
      "execution_count": 11,
      "outputs": []
    },
    {
      "cell_type": "code",
      "source": [
        "from sklearn.linear_model import LinearRegression\n",
        "model = LinearRegression()    # importorting the LinearRegression library\n",
        "model\n"
      ],
      "metadata": {
        "colab": {
          "base_uri": "https://localhost:8080/"
        },
        "id": "Ml-VB9VM51Ld",
        "outputId": "4a24c40e-2d33-4a39-f53a-4b3bccd1bcd8"
      },
      "execution_count": 12,
      "outputs": [
        {
          "output_type": "execute_result",
          "data": {
            "text/plain": [
              "LinearRegression()"
            ]
          },
          "metadata": {},
          "execution_count": 12
        }
      ]
    },
    {
      "cell_type": "code",
      "source": [
        "model.fit(x_train,y_train)   # fitting the trainig data "
      ],
      "metadata": {
        "colab": {
          "base_uri": "https://localhost:8080/"
        },
        "id": "_oZlKTV86MSp",
        "outputId": "602869ad-a65a-4f45-f9eb-248c6a93adf0"
      },
      "execution_count": 13,
      "outputs": [
        {
          "output_type": "execute_result",
          "data": {
            "text/plain": [
              "LinearRegression()"
            ]
          },
          "metadata": {},
          "execution_count": 13
        }
      ]
    },
    {
      "cell_type": "code",
      "source": [
        "y_pred = model.predict(x_test)   # y_pred is the output set of predicted values for testing data\n",
        "y_pred"
      ],
      "metadata": {
        "colab": {
          "base_uri": "https://localhost:8080/"
        },
        "id": "uslpDGUU6t7u",
        "outputId": "990b1c51-fd7f-4797-ef2c-7f2bfe1341c0"
      },
      "execution_count": 15,
      "outputs": [
        {
          "output_type": "execute_result",
          "data": {
            "text/plain": [
              "array([60303.49759162, 59712.63291435, 60572.27469764, 59146.19389223,\n",
              "       61629.426116  , 62051.9907023 , 59101.75645221, 59891.79114386,\n",
              "       58427.2907009 , 60912.6917698 , 62004.22598943, 58566.98098435,\n",
              "       58468.92719353, 58422.5634482 , 57084.70262534, 59935.72120394,\n",
              "       57968.64336499, 59282.46957775, 57259.6138444 , 58272.02834811,\n",
              "       59232.94285088, 59952.25672195, 59295.1073896 , 58393.52993759,\n",
              "       57825.64426037, 58396.7561678 , 59864.47455173, 59647.24056569,\n",
              "       58475.98087317, 58571.67626814, 61460.33012532, 62475.0293152 ,\n",
              "       59737.00222563, 59403.65393005, 60667.7062402 , 58943.95305768,\n",
              "       59151.65665688, 60072.10365393, 60170.22730583, 58884.28179957,\n",
              "       59597.54116008, 57084.91546512, 59925.22243394, 58245.08207938,\n",
              "       59183.0903041 , 59519.73311122, 59859.76575073, 61895.24291781,\n",
              "       56475.76657776, 60846.07912304, 58967.36178118, 61081.68543665,\n",
              "       61247.88437178, 58188.06731347, 60344.26388283, 61067.80443436,\n",
              "       57577.99868852, 59679.7053509 , 58200.96503095, 58842.99175031,\n",
              "       61597.02566535, 58771.54873969, 58728.4407293 , 61591.64282603,\n",
              "       61263.0939131 , 63006.03989316, 60073.08506046, 61506.8201727 ,\n",
              "       58519.45042387, 58870.98346662, 57800.95801046, 60036.30320845,\n",
              "       58701.04539483, 61341.9719798 , 58286.96624162, 61297.95439428,\n",
              "       60135.8981828 , 60881.86289185, 61510.53089051, 58241.66984852,\n",
              "       59481.37189111, 60529.282333  , 60719.80104324, 60120.81957945,\n",
              "       57646.97259204, 58756.93222545, 56637.91279235, 60597.17664825,\n",
              "       57628.30444314, 60553.24214753, 60234.63331347, 63053.87180149,\n",
              "       57157.33129954, 59597.85790342, 56032.57389042, 61402.75449652,\n",
              "       60852.82701419, 61439.0724844 , 60243.50525279, 60979.98240166,\n",
              "       58061.26409119, 59582.14719782, 58226.22062828, 62004.2244097 ,\n",
              "       58994.98544297, 58663.1233715 , 61526.65908353, 61535.54582124,\n",
              "       60354.13538181, 60251.51813576, 57170.87029909, 59671.46739211,\n",
              "       61121.64556243, 59675.09709869, 56602.56091877, 59182.13129606,\n",
              "       60796.65116994, 59030.30692738, 59656.07027039, 57777.46541482,\n",
              "       59396.34192451, 56982.99959035, 58844.26750168, 58326.8875908 ,\n",
              "       60412.3397581 , 63479.93979233, 59936.94327707, 60428.62158614,\n",
              "       59440.26803781, 57540.42271183, 59231.56635541, 58651.80807832,\n",
              "       61075.1995247 , 59437.96844999, 59296.11040728, 57730.78206524,\n",
              "       61214.19623227, 59645.14049575, 58292.26076816, 60561.60019269,\n",
              "       56773.67152753, 58712.17577323, 59339.76309773, 60512.88091242,\n",
              "       60353.86659491, 57880.42466361, 58419.5161124 , 59683.86532975,\n",
              "       60215.46400031, 60160.08721523, 58437.54436365, 58505.88172429,\n",
              "       57959.17997831, 60030.12752562, 60946.64248055, 58652.41778208,\n",
              "       57863.16497909, 58408.59857378, 59348.39900638, 60832.36902447,\n",
              "       59578.63155725, 58161.00825992, 59485.45816029, 59692.33902066,\n",
              "       58275.61661248, 60427.13230584, 59336.63475071, 58642.45747648,\n",
              "       59189.53763473, 59617.35875831, 58340.18306284, 60754.47818937,\n",
              "       60036.75641628, 60401.42843515, 58734.94795385, 63530.00409302,\n",
              "       59969.29705247, 58710.32830737, 59494.13867061, 58162.52457464,\n",
              "       61767.90656235, 59169.52446542, 60733.39372104, 57848.33542978,\n",
              "       59522.37075498, 59368.52051988, 58527.97562126, 62295.47520941,\n",
              "       57636.16734441, 58911.30779834, 59768.96693245, 60579.50549667,\n",
              "       61084.95646383, 60097.72443982, 59402.84628816, 58496.65426503,\n",
              "       60050.02899599, 59822.39215281, 58921.05013437, 63009.01065837,\n",
              "       56314.71238277, 60608.44131938, 59218.6672535 , 57478.7863718 ,\n",
              "       57722.33837292, 61065.65177205, 58382.46211872, 56764.81054307,\n",
              "       58959.2988682 , 59173.54462502, 58422.69419088, 60146.74980713,\n",
              "       58531.21181863, 56429.14361594, 63492.90214291, 60052.26424925,\n",
              "       60133.00398816, 60051.45680265, 60649.70147331, 59082.8061945 ,\n",
              "       58118.50235319, 59347.90988285, 60182.27258443, 59968.07971853])"
            ]
          },
          "metadata": {},
          "execution_count": 15
        }
      ]
    },
    {
      "cell_type": "code",
      "source": [
        "y_test   # the actual output for testing data"
      ],
      "metadata": {
        "colab": {
          "base_uri": "https://localhost:8080/"
        },
        "id": "A1qgsLGi68I7",
        "outputId": "a34199df-fe10-4788-d791-e9144c2e1473"
      },
      "execution_count": 16,
      "outputs": [
        {
          "output_type": "execute_result",
          "data": {
            "text/plain": [
              "array([ 51190,  71300,  65660,  14920,  64010,  85000,  72020,  70940,\n",
              "        59290,  94460,  45580,  66050,  68890,  39740,  65750,  94170,\n",
              "        61670,  38560,  76530,  52520,  66360,  55710,  84690,  73710,\n",
              "        31890,  73660,  36560,  70610,  87220,  54610,  57910,  48540,\n",
              "        84410,  58660,  36530,  43130,  46700,  56480,  68590,  55980,\n",
              "        67520,  55990,  64780,  27970,  48670,  56880,  63300,  61180,\n",
              "        25600,  79310,  90940,  53230,  69130,  73810,  39970,  40300,\n",
              "        48950,  21300,  63540,  62470,  67360,  53890,  65560,  51320,\n",
              "        51560,  51910,  78870,  66030,  26220,  68350,  46310,  53760,\n",
              "        33730,  71830,  47230,  73080,  39420,  78090,  45160,  54690,\n",
              "        72430,  67030,  50960,  59940,  93950,  60530,  85670,  80140,\n",
              "        53270,  38280,  59190,  52990,  56610,  52160,  75110,  86830,\n",
              "        71570,  46920,  54820,  66160,  47590,  48180,  59380,  93000,\n",
              "        49510,  35420,  65580,  79180,  41910,  52340,  54590,  38600,\n",
              "        50840,  63600,  42530,  61750,  58260,  30020,  87930,  74080,\n",
              "        41710,  72270,  41490,  34310,  95900,  59970,  49160,  72050,\n",
              "        45260,  36770,  88120,  81870,  86560,  46970,  54670,  55660,\n",
              "        54590,  51310,  82970,  45080,  52540,  62870,  61590,  49550,\n",
              "        46050,  31180,  42620,  81840,  69610,  66000,  54380,  35360,\n",
              "        47800,  45950,  47310,  44960,  72350,  49100,  65660,  37830,\n",
              "        49990,  40930,  59070,  59800,  46840,  60140,  23090,  40730,\n",
              "        82080,  54370,  51280, 102310,  82070,  60530,  58940,  44730,\n",
              "        74320,  48120,  54340,  39820,  64320,  86620,  54450,  55500,\n",
              "        50920,  47350,  72740,  48590,  67390,  50440,  80720,  75950,\n",
              "        80790,  49350,  92300,  63830,  69600,  30840,  65390,  67420,\n",
              "        27310,  53550,  56230,  87170,  52940,  64090,  49270,  47460,\n",
              "        38620,  25630,  75550,  39800,  48950,  45480,  45820,  76640,\n",
              "        63540,  56400,  72800,  57750,  52280,  84360,  81820,  22310])"
            ]
          },
          "metadata": {},
          "execution_count": 16
        }
      ]
    },
    {
      "cell_type": "code",
      "source": [
        "a = scaling.fit_transform([[1659, 1961,  530]])\n",
        "model.predict(a)"
      ],
      "metadata": {
        "colab": {
          "base_uri": "https://localhost:8080/"
        },
        "id": "wQBbE9bP8jHa",
        "outputId": "8d0ae14c-1367-43b6-c6b7-db7e9e460996"
      },
      "execution_count": 17,
      "outputs": [
        {
          "output_type": "execute_result",
          "data": {
            "text/plain": [
              "array([49963.99652791])"
            ]
          },
          "metadata": {},
          "execution_count": 17
        }
      ]
    },
    {
      "cell_type": "code",
      "source": [
        "import joblib \n",
        "joblib.dump(model,'Store_Sales')"
      ],
      "metadata": {
        "colab": {
          "base_uri": "https://localhost:8080/"
        },
        "id": "YJw-1ieuA9GJ",
        "outputId": "ef991a80-4896-455e-c031-eb66083b770d"
      },
      "execution_count": 18,
      "outputs": [
        {
          "output_type": "execute_result",
          "data": {
            "text/plain": [
              "['Store_Sales']"
            ]
          },
          "metadata": {},
          "execution_count": 18
        }
      ]
    },
    {
      "cell_type": "code",
      "source": [
        "joblib.load('Store_Sales')"
      ],
      "metadata": {
        "colab": {
          "base_uri": "https://localhost:8080/"
        },
        "id": "g6KoVgZcB4Aj",
        "outputId": "38adc315-ccd5-402f-8c97-aa712441eb79"
      },
      "execution_count": 19,
      "outputs": [
        {
          "output_type": "execute_result",
          "data": {
            "text/plain": [
              "LinearRegression()"
            ]
          },
          "metadata": {},
          "execution_count": 19
        }
      ]
    },
    {
      "cell_type": "code",
      "source": [
        "model.predict([[1659, 1961,  530]])"
      ],
      "metadata": {
        "id": "9e_Mbx6sB7gW",
        "colab": {
          "base_uri": "https://localhost:8080/"
        },
        "outputId": "9e3cbc40-a79b-4247-c3b3-7d6f361a78da"
      },
      "execution_count": 20,
      "outputs": [
        {
          "output_type": "execute_result",
          "data": {
            "text/plain": [
              "array([58794.94858192])"
            ]
          },
          "metadata": {},
          "execution_count": 20
        }
      ]
    },
    {
      "cell_type": "code",
      "source": [
        ""
      ],
      "metadata": {
        "id": "kopTL0CPTMy6"
      },
      "execution_count": null,
      "outputs": []
    }
  ]
}